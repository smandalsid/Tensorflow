{
  "nbformat": 4,
  "nbformat_minor": 0,
  "metadata": {
    "colab": {
      "provenance": [],
      "gpuType": "T4",
      "authorship_tag": "ABX9TyMz1E+rEKOWEnU/3MGte3Gj",
      "include_colab_link": true
    },
    "kernelspec": {
      "name": "python3",
      "display_name": "Python 3"
    },
    "language_info": {
      "name": "python"
    },
    "accelerator": "GPU"
  },
  "cells": [
    {
      "cell_type": "markdown",
      "metadata": {
        "id": "view-in-github",
        "colab_type": "text"
      },
      "source": [
        "<a href=\"https://colab.research.google.com/github/smandalsid/Tensorflow/blob/main/Sec3_Classification.ipynb\" target=\"_parent\"><img src=\"https://colab.research.google.com/assets/colab-badge.svg\" alt=\"Open In Colab\"/></a>"
      ]
    },
    {
      "cell_type": "code",
      "execution_count": 1,
      "metadata": {
        "id": "keg8j5r49hQm"
      },
      "outputs": [],
      "source": [
        "import tensorflow as tf\n",
        "from sklearn.datasets import load_breast_cancer"
      ]
    },
    {
      "cell_type": "code",
      "source": [
        "data=load_breast_cancer()\n",
        "data"
      ],
      "metadata": {
        "colab": {
          "base_uri": "https://localhost:8080/"
        },
        "id": "gSzYALOy-nkG",
        "outputId": "a125b71f-d45a-4c80-c1ed-c5e9c087f900"
      },
      "execution_count": 2,
      "outputs": [
        {
          "output_type": "execute_result",
          "data": {
            "text/plain": [
              "{'data': array([[1.799e+01, 1.038e+01, 1.228e+02, ..., 2.654e-01, 4.601e-01,\n",
              "         1.189e-01],\n",
              "        [2.057e+01, 1.777e+01, 1.329e+02, ..., 1.860e-01, 2.750e-01,\n",
              "         8.902e-02],\n",
              "        [1.969e+01, 2.125e+01, 1.300e+02, ..., 2.430e-01, 3.613e-01,\n",
              "         8.758e-02],\n",
              "        ...,\n",
              "        [1.660e+01, 2.808e+01, 1.083e+02, ..., 1.418e-01, 2.218e-01,\n",
              "         7.820e-02],\n",
              "        [2.060e+01, 2.933e+01, 1.401e+02, ..., 2.650e-01, 4.087e-01,\n",
              "         1.240e-01],\n",
              "        [7.760e+00, 2.454e+01, 4.792e+01, ..., 0.000e+00, 2.871e-01,\n",
              "         7.039e-02]]),\n",
              " 'target': array([0, 0, 0, 0, 0, 0, 0, 0, 0, 0, 0, 0, 0, 0, 0, 0, 0, 0, 0, 1, 1, 1,\n",
              "        0, 0, 0, 0, 0, 0, 0, 0, 0, 0, 0, 0, 0, 0, 0, 1, 0, 0, 0, 0, 0, 0,\n",
              "        0, 0, 1, 0, 1, 1, 1, 1, 1, 0, 0, 1, 0, 0, 1, 1, 1, 1, 0, 1, 0, 0,\n",
              "        1, 1, 1, 1, 0, 1, 0, 0, 1, 0, 1, 0, 0, 1, 1, 1, 0, 0, 1, 0, 0, 0,\n",
              "        1, 1, 1, 0, 1, 1, 0, 0, 1, 1, 1, 0, 0, 1, 1, 1, 1, 0, 1, 1, 0, 1,\n",
              "        1, 1, 1, 1, 1, 1, 1, 0, 0, 0, 1, 0, 0, 1, 1, 1, 0, 0, 1, 0, 1, 0,\n",
              "        0, 1, 0, 0, 1, 1, 0, 1, 1, 0, 1, 1, 1, 1, 0, 1, 1, 1, 1, 1, 1, 1,\n",
              "        1, 1, 0, 1, 1, 1, 1, 0, 0, 1, 0, 1, 1, 0, 0, 1, 1, 0, 0, 1, 1, 1,\n",
              "        1, 0, 1, 1, 0, 0, 0, 1, 0, 1, 0, 1, 1, 1, 0, 1, 1, 0, 0, 1, 0, 0,\n",
              "        0, 0, 1, 0, 0, 0, 1, 0, 1, 0, 1, 1, 0, 1, 0, 0, 0, 0, 1, 1, 0, 0,\n",
              "        1, 1, 1, 0, 1, 1, 1, 1, 1, 0, 0, 1, 1, 0, 1, 1, 0, 0, 1, 0, 1, 1,\n",
              "        1, 1, 0, 1, 1, 1, 1, 1, 0, 1, 0, 0, 0, 0, 0, 0, 0, 0, 0, 0, 0, 0,\n",
              "        0, 0, 1, 1, 1, 1, 1, 1, 0, 1, 0, 1, 1, 0, 1, 1, 0, 1, 0, 0, 1, 1,\n",
              "        1, 1, 1, 1, 1, 1, 1, 1, 1, 1, 1, 0, 1, 1, 0, 1, 0, 1, 1, 1, 1, 1,\n",
              "        1, 1, 1, 1, 1, 1, 1, 1, 1, 0, 1, 1, 1, 0, 1, 0, 1, 1, 1, 1, 0, 0,\n",
              "        0, 1, 1, 1, 1, 0, 1, 0, 1, 0, 1, 1, 1, 0, 1, 1, 1, 1, 1, 1, 1, 0,\n",
              "        0, 0, 1, 1, 1, 1, 1, 1, 1, 1, 1, 1, 1, 0, 0, 1, 0, 0, 0, 1, 0, 0,\n",
              "        1, 1, 1, 1, 1, 0, 1, 1, 1, 1, 1, 0, 1, 1, 1, 0, 1, 1, 0, 0, 1, 1,\n",
              "        1, 1, 1, 1, 0, 1, 1, 1, 1, 1, 1, 1, 0, 1, 1, 1, 1, 1, 0, 1, 1, 0,\n",
              "        1, 1, 1, 1, 1, 1, 1, 1, 1, 1, 1, 1, 0, 1, 0, 0, 1, 0, 1, 1, 1, 1,\n",
              "        1, 0, 1, 1, 0, 1, 0, 1, 1, 0, 1, 0, 1, 1, 1, 1, 1, 1, 1, 1, 0, 0,\n",
              "        1, 1, 1, 1, 1, 1, 0, 1, 1, 1, 1, 1, 1, 1, 1, 1, 1, 0, 1, 1, 1, 1,\n",
              "        1, 1, 1, 0, 1, 0, 1, 1, 0, 1, 1, 1, 1, 1, 0, 0, 1, 0, 1, 0, 1, 1,\n",
              "        1, 1, 1, 0, 1, 1, 0, 1, 0, 1, 0, 0, 1, 1, 1, 0, 1, 1, 1, 1, 1, 1,\n",
              "        1, 1, 1, 1, 1, 0, 1, 0, 0, 1, 1, 1, 1, 1, 1, 1, 1, 1, 1, 1, 1, 1,\n",
              "        1, 1, 1, 1, 1, 1, 1, 1, 1, 1, 1, 1, 0, 0, 0, 0, 0, 0, 1]),\n",
              " 'frame': None,\n",
              " 'target_names': array(['malignant', 'benign'], dtype='<U9'),\n",
              " 'DESCR': '.. _breast_cancer_dataset:\\n\\nBreast cancer wisconsin (diagnostic) dataset\\n--------------------------------------------\\n\\n**Data Set Characteristics:**\\n\\n    :Number of Instances: 569\\n\\n    :Number of Attributes: 30 numeric, predictive attributes and the class\\n\\n    :Attribute Information:\\n        - radius (mean of distances from center to points on the perimeter)\\n        - texture (standard deviation of gray-scale values)\\n        - perimeter\\n        - area\\n        - smoothness (local variation in radius lengths)\\n        - compactness (perimeter^2 / area - 1.0)\\n        - concavity (severity of concave portions of the contour)\\n        - concave points (number of concave portions of the contour)\\n        - symmetry\\n        - fractal dimension (\"coastline approximation\" - 1)\\n\\n        The mean, standard error, and \"worst\" or largest (mean of the three\\n        worst/largest values) of these features were computed for each image,\\n        resulting in 30 features.  For instance, field 0 is Mean Radius, field\\n        10 is Radius SE, field 20 is Worst Radius.\\n\\n        - class:\\n                - WDBC-Malignant\\n                - WDBC-Benign\\n\\n    :Summary Statistics:\\n\\n    ===================================== ====== ======\\n                                           Min    Max\\n    ===================================== ====== ======\\n    radius (mean):                        6.981  28.11\\n    texture (mean):                       9.71   39.28\\n    perimeter (mean):                     43.79  188.5\\n    area (mean):                          143.5  2501.0\\n    smoothness (mean):                    0.053  0.163\\n    compactness (mean):                   0.019  0.345\\n    concavity (mean):                     0.0    0.427\\n    concave points (mean):                0.0    0.201\\n    symmetry (mean):                      0.106  0.304\\n    fractal dimension (mean):             0.05   0.097\\n    radius (standard error):              0.112  2.873\\n    texture (standard error):             0.36   4.885\\n    perimeter (standard error):           0.757  21.98\\n    area (standard error):                6.802  542.2\\n    smoothness (standard error):          0.002  0.031\\n    compactness (standard error):         0.002  0.135\\n    concavity (standard error):           0.0    0.396\\n    concave points (standard error):      0.0    0.053\\n    symmetry (standard error):            0.008  0.079\\n    fractal dimension (standard error):   0.001  0.03\\n    radius (worst):                       7.93   36.04\\n    texture (worst):                      12.02  49.54\\n    perimeter (worst):                    50.41  251.2\\n    area (worst):                         185.2  4254.0\\n    smoothness (worst):                   0.071  0.223\\n    compactness (worst):                  0.027  1.058\\n    concavity (worst):                    0.0    1.252\\n    concave points (worst):               0.0    0.291\\n    symmetry (worst):                     0.156  0.664\\n    fractal dimension (worst):            0.055  0.208\\n    ===================================== ====== ======\\n\\n    :Missing Attribute Values: None\\n\\n    :Class Distribution: 212 - Malignant, 357 - Benign\\n\\n    :Creator:  Dr. William H. Wolberg, W. Nick Street, Olvi L. Mangasarian\\n\\n    :Donor: Nick Street\\n\\n    :Date: November, 1995\\n\\nThis is a copy of UCI ML Breast Cancer Wisconsin (Diagnostic) datasets.\\nhttps://goo.gl/U2Uwz2\\n\\nFeatures are computed from a digitized image of a fine needle\\naspirate (FNA) of a breast mass.  They describe\\ncharacteristics of the cell nuclei present in the image.\\n\\nSeparating plane described above was obtained using\\nMultisurface Method-Tree (MSM-T) [K. P. Bennett, \"Decision Tree\\nConstruction Via Linear Programming.\" Proceedings of the 4th\\nMidwest Artificial Intelligence and Cognitive Science Society,\\npp. 97-101, 1992], a classification method which uses linear\\nprogramming to construct a decision tree.  Relevant features\\nwere selected using an exhaustive search in the space of 1-4\\nfeatures and 1-3 separating planes.\\n\\nThe actual linear program used to obtain the separating plane\\nin the 3-dimensional space is that described in:\\n[K. P. Bennett and O. L. Mangasarian: \"Robust Linear\\nProgramming Discrimination of Two Linearly Inseparable Sets\",\\nOptimization Methods and Software 1, 1992, 23-34].\\n\\nThis database is also available through the UW CS ftp server:\\n\\nftp ftp.cs.wisc.edu\\ncd math-prog/cpo-dataset/machine-learn/WDBC/\\n\\n.. topic:: References\\n\\n   - W.N. Street, W.H. Wolberg and O.L. Mangasarian. Nuclear feature extraction \\n     for breast tumor diagnosis. IS&T/SPIE 1993 International Symposium on \\n     Electronic Imaging: Science and Technology, volume 1905, pages 861-870,\\n     San Jose, CA, 1993.\\n   - O.L. Mangasarian, W.N. Street and W.H. Wolberg. Breast cancer diagnosis and \\n     prognosis via linear programming. Operations Research, 43(4), pages 570-577, \\n     July-August 1995.\\n   - W.H. Wolberg, W.N. Street, and O.L. Mangasarian. Machine learning techniques\\n     to diagnose breast cancer from fine-needle aspirates. Cancer Letters 77 (1994) \\n     163-171.',\n",
              " 'feature_names': array(['mean radius', 'mean texture', 'mean perimeter', 'mean area',\n",
              "        'mean smoothness', 'mean compactness', 'mean concavity',\n",
              "        'mean concave points', 'mean symmetry', 'mean fractal dimension',\n",
              "        'radius error', 'texture error', 'perimeter error', 'area error',\n",
              "        'smoothness error', 'compactness error', 'concavity error',\n",
              "        'concave points error', 'symmetry error',\n",
              "        'fractal dimension error', 'worst radius', 'worst texture',\n",
              "        'worst perimeter', 'worst area', 'worst smoothness',\n",
              "        'worst compactness', 'worst concavity', 'worst concave points',\n",
              "        'worst symmetry', 'worst fractal dimension'], dtype='<U23'),\n",
              " 'filename': 'breast_cancer.csv',\n",
              " 'data_module': 'sklearn.datasets.data'}"
            ]
          },
          "metadata": {},
          "execution_count": 2
        }
      ]
    },
    {
      "cell_type": "code",
      "source": [
        "data.data"
      ],
      "metadata": {
        "colab": {
          "base_uri": "https://localhost:8080/"
        },
        "id": "W3xOsoQI-vTQ",
        "outputId": "8e0a385a-12ac-4880-b314-35e2a09df2ca"
      },
      "execution_count": 3,
      "outputs": [
        {
          "output_type": "execute_result",
          "data": {
            "text/plain": [
              "array([[1.799e+01, 1.038e+01, 1.228e+02, ..., 2.654e-01, 4.601e-01,\n",
              "        1.189e-01],\n",
              "       [2.057e+01, 1.777e+01, 1.329e+02, ..., 1.860e-01, 2.750e-01,\n",
              "        8.902e-02],\n",
              "       [1.969e+01, 2.125e+01, 1.300e+02, ..., 2.430e-01, 3.613e-01,\n",
              "        8.758e-02],\n",
              "       ...,\n",
              "       [1.660e+01, 2.808e+01, 1.083e+02, ..., 1.418e-01, 2.218e-01,\n",
              "        7.820e-02],\n",
              "       [2.060e+01, 2.933e+01, 1.401e+02, ..., 2.650e-01, 4.087e-01,\n",
              "        1.240e-01],\n",
              "       [7.760e+00, 2.454e+01, 4.792e+01, ..., 0.000e+00, 2.871e-01,\n",
              "        7.039e-02]])"
            ]
          },
          "metadata": {},
          "execution_count": 3
        }
      ]
    },
    {
      "cell_type": "code",
      "source": [
        "data.data.shape"
      ],
      "metadata": {
        "colab": {
          "base_uri": "https://localhost:8080/"
        },
        "id": "aPEv_IBE-7Xg",
        "outputId": "a1a8d2a3-2f35-45e8-eeb5-ff5f8240bee9"
      },
      "execution_count": 4,
      "outputs": [
        {
          "output_type": "execute_result",
          "data": {
            "text/plain": [
              "(569, 30)"
            ]
          },
          "metadata": {},
          "execution_count": 4
        }
      ]
    },
    {
      "cell_type": "code",
      "source": [
        "data.target\n",
        "# indicates a binary classification problem"
      ],
      "metadata": {
        "colab": {
          "base_uri": "https://localhost:8080/"
        },
        "id": "AX0i6EbH--Bl",
        "outputId": "1af8c8bc-7d6a-4341-8df6-78d60596e75e"
      },
      "execution_count": 5,
      "outputs": [
        {
          "output_type": "execute_result",
          "data": {
            "text/plain": [
              "array([0, 0, 0, 0, 0, 0, 0, 0, 0, 0, 0, 0, 0, 0, 0, 0, 0, 0, 0, 1, 1, 1,\n",
              "       0, 0, 0, 0, 0, 0, 0, 0, 0, 0, 0, 0, 0, 0, 0, 1, 0, 0, 0, 0, 0, 0,\n",
              "       0, 0, 1, 0, 1, 1, 1, 1, 1, 0, 0, 1, 0, 0, 1, 1, 1, 1, 0, 1, 0, 0,\n",
              "       1, 1, 1, 1, 0, 1, 0, 0, 1, 0, 1, 0, 0, 1, 1, 1, 0, 0, 1, 0, 0, 0,\n",
              "       1, 1, 1, 0, 1, 1, 0, 0, 1, 1, 1, 0, 0, 1, 1, 1, 1, 0, 1, 1, 0, 1,\n",
              "       1, 1, 1, 1, 1, 1, 1, 0, 0, 0, 1, 0, 0, 1, 1, 1, 0, 0, 1, 0, 1, 0,\n",
              "       0, 1, 0, 0, 1, 1, 0, 1, 1, 0, 1, 1, 1, 1, 0, 1, 1, 1, 1, 1, 1, 1,\n",
              "       1, 1, 0, 1, 1, 1, 1, 0, 0, 1, 0, 1, 1, 0, 0, 1, 1, 0, 0, 1, 1, 1,\n",
              "       1, 0, 1, 1, 0, 0, 0, 1, 0, 1, 0, 1, 1, 1, 0, 1, 1, 0, 0, 1, 0, 0,\n",
              "       0, 0, 1, 0, 0, 0, 1, 0, 1, 0, 1, 1, 0, 1, 0, 0, 0, 0, 1, 1, 0, 0,\n",
              "       1, 1, 1, 0, 1, 1, 1, 1, 1, 0, 0, 1, 1, 0, 1, 1, 0, 0, 1, 0, 1, 1,\n",
              "       1, 1, 0, 1, 1, 1, 1, 1, 0, 1, 0, 0, 0, 0, 0, 0, 0, 0, 0, 0, 0, 0,\n",
              "       0, 0, 1, 1, 1, 1, 1, 1, 0, 1, 0, 1, 1, 0, 1, 1, 0, 1, 0, 0, 1, 1,\n",
              "       1, 1, 1, 1, 1, 1, 1, 1, 1, 1, 1, 0, 1, 1, 0, 1, 0, 1, 1, 1, 1, 1,\n",
              "       1, 1, 1, 1, 1, 1, 1, 1, 1, 0, 1, 1, 1, 0, 1, 0, 1, 1, 1, 1, 0, 0,\n",
              "       0, 1, 1, 1, 1, 0, 1, 0, 1, 0, 1, 1, 1, 0, 1, 1, 1, 1, 1, 1, 1, 0,\n",
              "       0, 0, 1, 1, 1, 1, 1, 1, 1, 1, 1, 1, 1, 0, 0, 1, 0, 0, 0, 1, 0, 0,\n",
              "       1, 1, 1, 1, 1, 0, 1, 1, 1, 1, 1, 0, 1, 1, 1, 0, 1, 1, 0, 0, 1, 1,\n",
              "       1, 1, 1, 1, 0, 1, 1, 1, 1, 1, 1, 1, 0, 1, 1, 1, 1, 1, 0, 1, 1, 0,\n",
              "       1, 1, 1, 1, 1, 1, 1, 1, 1, 1, 1, 1, 0, 1, 0, 0, 1, 0, 1, 1, 1, 1,\n",
              "       1, 0, 1, 1, 0, 1, 0, 1, 1, 0, 1, 0, 1, 1, 1, 1, 1, 1, 1, 1, 0, 0,\n",
              "       1, 1, 1, 1, 1, 1, 0, 1, 1, 1, 1, 1, 1, 1, 1, 1, 1, 0, 1, 1, 1, 1,\n",
              "       1, 1, 1, 0, 1, 0, 1, 1, 0, 1, 1, 1, 1, 1, 0, 0, 1, 0, 1, 0, 1, 1,\n",
              "       1, 1, 1, 0, 1, 1, 0, 1, 0, 1, 0, 0, 1, 1, 1, 0, 1, 1, 1, 1, 1, 1,\n",
              "       1, 1, 1, 1, 1, 0, 1, 0, 0, 1, 1, 1, 1, 1, 1, 1, 1, 1, 1, 1, 1, 1,\n",
              "       1, 1, 1, 1, 1, 1, 1, 1, 1, 1, 1, 1, 0, 0, 0, 0, 0, 0, 1])"
            ]
          },
          "metadata": {},
          "execution_count": 5
        }
      ]
    },
    {
      "cell_type": "code",
      "source": [
        "data.target_names"
      ],
      "metadata": {
        "colab": {
          "base_uri": "https://localhost:8080/"
        },
        "id": "3nGJsgye_BVH",
        "outputId": "267586ee-5edf-4cfd-fc20-eca7b4013dee"
      },
      "execution_count": 6,
      "outputs": [
        {
          "output_type": "execute_result",
          "data": {
            "text/plain": [
              "array(['malignant', 'benign'], dtype='<U9')"
            ]
          },
          "metadata": {},
          "execution_count": 6
        }
      ]
    },
    {
      "cell_type": "code",
      "source": [
        "data.feature_names"
      ],
      "metadata": {
        "colab": {
          "base_uri": "https://localhost:8080/"
        },
        "id": "v8ByOC99_MFV",
        "outputId": "858b4ecc-1fd0-4eea-ad41-ae51ab65bd2b"
      },
      "execution_count": 7,
      "outputs": [
        {
          "output_type": "execute_result",
          "data": {
            "text/plain": [
              "array(['mean radius', 'mean texture', 'mean perimeter', 'mean area',\n",
              "       'mean smoothness', 'mean compactness', 'mean concavity',\n",
              "       'mean concave points', 'mean symmetry', 'mean fractal dimension',\n",
              "       'radius error', 'texture error', 'perimeter error', 'area error',\n",
              "       'smoothness error', 'compactness error', 'concavity error',\n",
              "       'concave points error', 'symmetry error',\n",
              "       'fractal dimension error', 'worst radius', 'worst texture',\n",
              "       'worst perimeter', 'worst area', 'worst smoothness',\n",
              "       'worst compactness', 'worst concavity', 'worst concave points',\n",
              "       'worst symmetry', 'worst fractal dimension'], dtype='<U23')"
            ]
          },
          "metadata": {},
          "execution_count": 7
        }
      ]
    },
    {
      "cell_type": "code",
      "source": [
        "from sklearn.model_selection import train_test_split\n",
        "\n",
        "x_train, x_test, y_train, y_test = train_test_split(data.data, data.target, test_size=0.33)"
      ],
      "metadata": {
        "id": "7PngKEWC_Q3N"
      },
      "execution_count": 8,
      "outputs": []
    },
    {
      "cell_type": "code",
      "source": [
        "N, D = x_train.shape"
      ],
      "metadata": {
        "id": "iV4NPFJY_okW"
      },
      "execution_count": 9,
      "outputs": []
    },
    {
      "cell_type": "code",
      "source": [
        "# N is number of data points and D is number of features\n",
        "N, D"
      ],
      "metadata": {
        "colab": {
          "base_uri": "https://localhost:8080/"
        },
        "id": "azPmDgoM_ubx",
        "outputId": "9e6c8f5c-b41a-4752-c2a8-6029e6017104"
      },
      "execution_count": 10,
      "outputs": [
        {
          "output_type": "execute_result",
          "data": {
            "text/plain": [
              "(381, 30)"
            ]
          },
          "metadata": {},
          "execution_count": 10
        }
      ]
    },
    {
      "cell_type": "code",
      "source": [
        "from sklearn.preprocessing import StandardScaler\n",
        "\n",
        "scaler = StandardScaler()\n",
        "x_train = scaler.fit_transform(x_train)\n",
        "x_test=scaler.transform(x_test)"
      ],
      "metadata": {
        "id": "qOEzt9bC_041"
      },
      "execution_count": 11,
      "outputs": []
    },
    {
      "cell_type": "markdown",
      "source": [
        "tensorflow part"
      ],
      "metadata": {
        "id": "ZgsH7pA-BbCd"
      }
    },
    {
      "cell_type": "code",
      "source": [
        "model=tf.keras.models.Sequential([\n",
        "    tf.keras.layers.Input(shape=(D, )),\n",
        "    tf.keras.layers.Dense(1, activation='sigmoid')\n",
        "])"
      ],
      "metadata": {
        "id": "iQNWek1QBH4g"
      },
      "execution_count": 12,
      "outputs": []
    },
    {
      "cell_type": "code",
      "source": [
        "model.compile(optimizer='adam', loss='binary_crossentropy', metrics=['accuracy'])"
      ],
      "metadata": {
        "id": "zysAgPulB270"
      },
      "execution_count": 13,
      "outputs": []
    },
    {
      "cell_type": "code",
      "source": [
        "r=model.fit(x_train, y_train, validation_data=(x_test, y_test), epochs=100)"
      ],
      "metadata": {
        "colab": {
          "base_uri": "https://localhost:8080/"
        },
        "id": "tj_Q7Ac5CJNi",
        "outputId": "91bbe094-e0cc-4e99-bf2f-d49d99386e1b"
      },
      "execution_count": 14,
      "outputs": [
        {
          "output_type": "stream",
          "name": "stdout",
          "text": [
            "Epoch 1/100\n",
            "12/12 [==============================] - 8s 100ms/step - loss: 0.5481 - accuracy: 0.7218 - val_loss: 0.5779 - val_accuracy: 0.7287\n",
            "Epoch 2/100\n",
            "12/12 [==============================] - 0s 22ms/step - loss: 0.4992 - accuracy: 0.7664 - val_loss: 0.5271 - val_accuracy: 0.7500\n",
            "Epoch 3/100\n",
            "12/12 [==============================] - 0s 20ms/step - loss: 0.4575 - accuracy: 0.8058 - val_loss: 0.4833 - val_accuracy: 0.7713\n",
            "Epoch 4/100\n",
            "12/12 [==============================] - 0s 26ms/step - loss: 0.4222 - accuracy: 0.8346 - val_loss: 0.4461 - val_accuracy: 0.7766\n",
            "Epoch 5/100\n",
            "12/12 [==============================] - 0s 23ms/step - loss: 0.3922 - accuracy: 0.8661 - val_loss: 0.4131 - val_accuracy: 0.7926\n",
            "Epoch 6/100\n",
            "12/12 [==============================] - 0s 30ms/step - loss: 0.3660 - accuracy: 0.8793 - val_loss: 0.3849 - val_accuracy: 0.8085\n",
            "Epoch 7/100\n",
            "12/12 [==============================] - 0s 30ms/step - loss: 0.3435 - accuracy: 0.8871 - val_loss: 0.3607 - val_accuracy: 0.8191\n",
            "Epoch 8/100\n",
            "12/12 [==============================] - 0s 18ms/step - loss: 0.3238 - accuracy: 0.8976 - val_loss: 0.3393 - val_accuracy: 0.8351\n",
            "Epoch 9/100\n",
            "12/12 [==============================] - 0s 13ms/step - loss: 0.3070 - accuracy: 0.9055 - val_loss: 0.3200 - val_accuracy: 0.8617\n",
            "Epoch 10/100\n",
            "12/12 [==============================] - 0s 19ms/step - loss: 0.2920 - accuracy: 0.9160 - val_loss: 0.3028 - val_accuracy: 0.8777\n",
            "Epoch 11/100\n",
            "12/12 [==============================] - 0s 15ms/step - loss: 0.2782 - accuracy: 0.9186 - val_loss: 0.2878 - val_accuracy: 0.8883\n",
            "Epoch 12/100\n",
            "12/12 [==============================] - 0s 17ms/step - loss: 0.2663 - accuracy: 0.9213 - val_loss: 0.2743 - val_accuracy: 0.8989\n",
            "Epoch 13/100\n",
            "12/12 [==============================] - 0s 12ms/step - loss: 0.2557 - accuracy: 0.9239 - val_loss: 0.2619 - val_accuracy: 0.9043\n",
            "Epoch 14/100\n",
            "12/12 [==============================] - 0s 16ms/step - loss: 0.2458 - accuracy: 0.9239 - val_loss: 0.2508 - val_accuracy: 0.9043\n",
            "Epoch 15/100\n",
            "12/12 [==============================] - 0s 19ms/step - loss: 0.2370 - accuracy: 0.9291 - val_loss: 0.2407 - val_accuracy: 0.9096\n",
            "Epoch 16/100\n",
            "12/12 [==============================] - 0s 14ms/step - loss: 0.2288 - accuracy: 0.9344 - val_loss: 0.2319 - val_accuracy: 0.9149\n",
            "Epoch 17/100\n",
            "12/12 [==============================] - 0s 19ms/step - loss: 0.2217 - accuracy: 0.9423 - val_loss: 0.2234 - val_accuracy: 0.9202\n",
            "Epoch 18/100\n",
            "12/12 [==============================] - 0s 17ms/step - loss: 0.2148 - accuracy: 0.9423 - val_loss: 0.2156 - val_accuracy: 0.9202\n",
            "Epoch 19/100\n",
            "12/12 [==============================] - 0s 13ms/step - loss: 0.2087 - accuracy: 0.9423 - val_loss: 0.2085 - val_accuracy: 0.9255\n",
            "Epoch 20/100\n",
            "12/12 [==============================] - 0s 18ms/step - loss: 0.2029 - accuracy: 0.9423 - val_loss: 0.2021 - val_accuracy: 0.9415\n",
            "Epoch 21/100\n",
            "12/12 [==============================] - 0s 26ms/step - loss: 0.1977 - accuracy: 0.9449 - val_loss: 0.1960 - val_accuracy: 0.9415\n",
            "Epoch 22/100\n",
            "12/12 [==============================] - 0s 21ms/step - loss: 0.1927 - accuracy: 0.9475 - val_loss: 0.1905 - val_accuracy: 0.9415\n",
            "Epoch 23/100\n",
            "12/12 [==============================] - 0s 14ms/step - loss: 0.1882 - accuracy: 0.9475 - val_loss: 0.1855 - val_accuracy: 0.9415\n",
            "Epoch 24/100\n",
            "12/12 [==============================] - 0s 21ms/step - loss: 0.1839 - accuracy: 0.9475 - val_loss: 0.1806 - val_accuracy: 0.9468\n",
            "Epoch 25/100\n",
            "12/12 [==============================] - 0s 18ms/step - loss: 0.1799 - accuracy: 0.9475 - val_loss: 0.1760 - val_accuracy: 0.9468\n",
            "Epoch 26/100\n",
            "12/12 [==============================] - 0s 19ms/step - loss: 0.1762 - accuracy: 0.9528 - val_loss: 0.1718 - val_accuracy: 0.9468\n",
            "Epoch 27/100\n",
            "12/12 [==============================] - 0s 17ms/step - loss: 0.1727 - accuracy: 0.9528 - val_loss: 0.1679 - val_accuracy: 0.9521\n",
            "Epoch 28/100\n",
            "12/12 [==============================] - 0s 16ms/step - loss: 0.1692 - accuracy: 0.9554 - val_loss: 0.1642 - val_accuracy: 0.9521\n",
            "Epoch 29/100\n",
            "12/12 [==============================] - 0s 20ms/step - loss: 0.1662 - accuracy: 0.9554 - val_loss: 0.1607 - val_accuracy: 0.9521\n",
            "Epoch 30/100\n",
            "12/12 [==============================] - 0s 25ms/step - loss: 0.1632 - accuracy: 0.9554 - val_loss: 0.1574 - val_accuracy: 0.9521\n",
            "Epoch 31/100\n",
            "12/12 [==============================] - 0s 15ms/step - loss: 0.1604 - accuracy: 0.9554 - val_loss: 0.1543 - val_accuracy: 0.9521\n",
            "Epoch 32/100\n",
            "12/12 [==============================] - 0s 12ms/step - loss: 0.1578 - accuracy: 0.9554 - val_loss: 0.1513 - val_accuracy: 0.9574\n",
            "Epoch 33/100\n",
            "12/12 [==============================] - 0s 19ms/step - loss: 0.1552 - accuracy: 0.9554 - val_loss: 0.1487 - val_accuracy: 0.9628\n",
            "Epoch 34/100\n",
            "12/12 [==============================] - 0s 16ms/step - loss: 0.1529 - accuracy: 0.9554 - val_loss: 0.1459 - val_accuracy: 0.9628\n",
            "Epoch 35/100\n",
            "12/12 [==============================] - 0s 17ms/step - loss: 0.1505 - accuracy: 0.9580 - val_loss: 0.1435 - val_accuracy: 0.9628\n",
            "Epoch 36/100\n",
            "12/12 [==============================] - 0s 13ms/step - loss: 0.1484 - accuracy: 0.9580 - val_loss: 0.1412 - val_accuracy: 0.9628\n",
            "Epoch 37/100\n",
            "12/12 [==============================] - 0s 20ms/step - loss: 0.1463 - accuracy: 0.9580 - val_loss: 0.1389 - val_accuracy: 0.9628\n",
            "Epoch 38/100\n",
            "12/12 [==============================] - 0s 18ms/step - loss: 0.1442 - accuracy: 0.9606 - val_loss: 0.1368 - val_accuracy: 0.9628\n",
            "Epoch 39/100\n",
            "12/12 [==============================] - 0s 17ms/step - loss: 0.1423 - accuracy: 0.9606 - val_loss: 0.1347 - val_accuracy: 0.9628\n",
            "Epoch 40/100\n",
            "12/12 [==============================] - 0s 19ms/step - loss: 0.1405 - accuracy: 0.9606 - val_loss: 0.1326 - val_accuracy: 0.9681\n",
            "Epoch 41/100\n",
            "12/12 [==============================] - 0s 19ms/step - loss: 0.1387 - accuracy: 0.9606 - val_loss: 0.1308 - val_accuracy: 0.9681\n",
            "Epoch 42/100\n",
            "12/12 [==============================] - 0s 20ms/step - loss: 0.1370 - accuracy: 0.9606 - val_loss: 0.1290 - val_accuracy: 0.9681\n",
            "Epoch 43/100\n",
            "12/12 [==============================] - 0s 20ms/step - loss: 0.1354 - accuracy: 0.9606 - val_loss: 0.1274 - val_accuracy: 0.9681\n",
            "Epoch 44/100\n",
            "12/12 [==============================] - 0s 16ms/step - loss: 0.1338 - accuracy: 0.9606 - val_loss: 0.1257 - val_accuracy: 0.9681\n",
            "Epoch 45/100\n",
            "12/12 [==============================] - 0s 21ms/step - loss: 0.1323 - accuracy: 0.9606 - val_loss: 0.1241 - val_accuracy: 0.9681\n",
            "Epoch 46/100\n",
            "12/12 [==============================] - 0s 22ms/step - loss: 0.1308 - accuracy: 0.9606 - val_loss: 0.1226 - val_accuracy: 0.9681\n",
            "Epoch 47/100\n",
            "12/12 [==============================] - 0s 19ms/step - loss: 0.1294 - accuracy: 0.9606 - val_loss: 0.1211 - val_accuracy: 0.9681\n",
            "Epoch 48/100\n",
            "12/12 [==============================] - 0s 22ms/step - loss: 0.1280 - accuracy: 0.9606 - val_loss: 0.1197 - val_accuracy: 0.9681\n",
            "Epoch 49/100\n",
            "12/12 [==============================] - 0s 20ms/step - loss: 0.1266 - accuracy: 0.9606 - val_loss: 0.1184 - val_accuracy: 0.9681\n",
            "Epoch 50/100\n",
            "12/12 [==============================] - 0s 26ms/step - loss: 0.1254 - accuracy: 0.9606 - val_loss: 0.1171 - val_accuracy: 0.9681\n",
            "Epoch 51/100\n",
            "12/12 [==============================] - 0s 19ms/step - loss: 0.1241 - accuracy: 0.9606 - val_loss: 0.1158 - val_accuracy: 0.9681\n",
            "Epoch 52/100\n",
            "12/12 [==============================] - 0s 17ms/step - loss: 0.1228 - accuracy: 0.9659 - val_loss: 0.1147 - val_accuracy: 0.9681\n",
            "Epoch 53/100\n",
            "12/12 [==============================] - 0s 29ms/step - loss: 0.1217 - accuracy: 0.9659 - val_loss: 0.1135 - val_accuracy: 0.9681\n",
            "Epoch 54/100\n",
            "12/12 [==============================] - 0s 30ms/step - loss: 0.1205 - accuracy: 0.9659 - val_loss: 0.1123 - val_accuracy: 0.9681\n",
            "Epoch 55/100\n",
            "12/12 [==============================] - 0s 29ms/step - loss: 0.1194 - accuracy: 0.9659 - val_loss: 0.1113 - val_accuracy: 0.9734\n",
            "Epoch 56/100\n",
            "12/12 [==============================] - 0s 28ms/step - loss: 0.1183 - accuracy: 0.9659 - val_loss: 0.1102 - val_accuracy: 0.9734\n",
            "Epoch 57/100\n",
            "12/12 [==============================] - 0s 23ms/step - loss: 0.1172 - accuracy: 0.9659 - val_loss: 0.1093 - val_accuracy: 0.9734\n",
            "Epoch 58/100\n",
            "12/12 [==============================] - 0s 31ms/step - loss: 0.1162 - accuracy: 0.9659 - val_loss: 0.1083 - val_accuracy: 0.9734\n",
            "Epoch 59/100\n",
            "12/12 [==============================] - 0s 35ms/step - loss: 0.1152 - accuracy: 0.9659 - val_loss: 0.1073 - val_accuracy: 0.9734\n",
            "Epoch 60/100\n",
            "12/12 [==============================] - 0s 24ms/step - loss: 0.1142 - accuracy: 0.9659 - val_loss: 0.1065 - val_accuracy: 0.9734\n",
            "Epoch 61/100\n",
            "12/12 [==============================] - 0s 24ms/step - loss: 0.1132 - accuracy: 0.9659 - val_loss: 0.1056 - val_accuracy: 0.9734\n",
            "Epoch 62/100\n",
            "12/12 [==============================] - 0s 25ms/step - loss: 0.1123 - accuracy: 0.9659 - val_loss: 0.1047 - val_accuracy: 0.9734\n",
            "Epoch 63/100\n",
            "12/12 [==============================] - 0s 16ms/step - loss: 0.1114 - accuracy: 0.9659 - val_loss: 0.1039 - val_accuracy: 0.9734\n",
            "Epoch 64/100\n",
            "12/12 [==============================] - 0s 23ms/step - loss: 0.1105 - accuracy: 0.9685 - val_loss: 0.1031 - val_accuracy: 0.9734\n",
            "Epoch 65/100\n",
            "12/12 [==============================] - 0s 25ms/step - loss: 0.1097 - accuracy: 0.9685 - val_loss: 0.1023 - val_accuracy: 0.9734\n",
            "Epoch 66/100\n",
            "12/12 [==============================] - 0s 17ms/step - loss: 0.1088 - accuracy: 0.9659 - val_loss: 0.1016 - val_accuracy: 0.9734\n",
            "Epoch 67/100\n",
            "12/12 [==============================] - 0s 17ms/step - loss: 0.1080 - accuracy: 0.9659 - val_loss: 0.1008 - val_accuracy: 0.9734\n",
            "Epoch 68/100\n",
            "12/12 [==============================] - 0s 13ms/step - loss: 0.1071 - accuracy: 0.9659 - val_loss: 0.1001 - val_accuracy: 0.9734\n",
            "Epoch 69/100\n",
            "12/12 [==============================] - 0s 17ms/step - loss: 0.1064 - accuracy: 0.9659 - val_loss: 0.0994 - val_accuracy: 0.9734\n",
            "Epoch 70/100\n",
            "12/12 [==============================] - 0s 20ms/step - loss: 0.1055 - accuracy: 0.9659 - val_loss: 0.0988 - val_accuracy: 0.9734\n",
            "Epoch 71/100\n",
            "12/12 [==============================] - 0s 18ms/step - loss: 0.1048 - accuracy: 0.9659 - val_loss: 0.0982 - val_accuracy: 0.9734\n",
            "Epoch 72/100\n",
            "12/12 [==============================] - 0s 18ms/step - loss: 0.1040 - accuracy: 0.9685 - val_loss: 0.0975 - val_accuracy: 0.9734\n",
            "Epoch 73/100\n",
            "12/12 [==============================] - 0s 17ms/step - loss: 0.1033 - accuracy: 0.9685 - val_loss: 0.0969 - val_accuracy: 0.9734\n",
            "Epoch 74/100\n",
            "12/12 [==============================] - 0s 17ms/step - loss: 0.1026 - accuracy: 0.9685 - val_loss: 0.0964 - val_accuracy: 0.9734\n",
            "Epoch 75/100\n",
            "12/12 [==============================] - 0s 13ms/step - loss: 0.1019 - accuracy: 0.9685 - val_loss: 0.0958 - val_accuracy: 0.9787\n",
            "Epoch 76/100\n",
            "12/12 [==============================] - 0s 16ms/step - loss: 0.1012 - accuracy: 0.9685 - val_loss: 0.0952 - val_accuracy: 0.9787\n",
            "Epoch 77/100\n",
            "12/12 [==============================] - 0s 19ms/step - loss: 0.1005 - accuracy: 0.9685 - val_loss: 0.0947 - val_accuracy: 0.9787\n",
            "Epoch 78/100\n",
            "12/12 [==============================] - 0s 16ms/step - loss: 0.0998 - accuracy: 0.9685 - val_loss: 0.0942 - val_accuracy: 0.9787\n",
            "Epoch 79/100\n",
            "12/12 [==============================] - 0s 17ms/step - loss: 0.0992 - accuracy: 0.9685 - val_loss: 0.0937 - val_accuracy: 0.9787\n",
            "Epoch 80/100\n",
            "12/12 [==============================] - 0s 8ms/step - loss: 0.0985 - accuracy: 0.9711 - val_loss: 0.0932 - val_accuracy: 0.9787\n",
            "Epoch 81/100\n",
            "12/12 [==============================] - 0s 20ms/step - loss: 0.0979 - accuracy: 0.9711 - val_loss: 0.0927 - val_accuracy: 0.9787\n",
            "Epoch 82/100\n",
            "12/12 [==============================] - 0s 13ms/step - loss: 0.0973 - accuracy: 0.9711 - val_loss: 0.0922 - val_accuracy: 0.9787\n",
            "Epoch 83/100\n",
            "12/12 [==============================] - 0s 20ms/step - loss: 0.0967 - accuracy: 0.9711 - val_loss: 0.0918 - val_accuracy: 0.9840\n",
            "Epoch 84/100\n",
            "12/12 [==============================] - 0s 18ms/step - loss: 0.0961 - accuracy: 0.9711 - val_loss: 0.0913 - val_accuracy: 0.9840\n",
            "Epoch 85/100\n",
            "12/12 [==============================] - 0s 14ms/step - loss: 0.0955 - accuracy: 0.9711 - val_loss: 0.0909 - val_accuracy: 0.9840\n",
            "Epoch 86/100\n",
            "12/12 [==============================] - 0s 14ms/step - loss: 0.0949 - accuracy: 0.9711 - val_loss: 0.0904 - val_accuracy: 0.9840\n",
            "Epoch 87/100\n",
            "12/12 [==============================] - 0s 9ms/step - loss: 0.0944 - accuracy: 0.9711 - val_loss: 0.0900 - val_accuracy: 0.9840\n",
            "Epoch 88/100\n",
            "12/12 [==============================] - 0s 11ms/step - loss: 0.0938 - accuracy: 0.9711 - val_loss: 0.0897 - val_accuracy: 0.9840\n",
            "Epoch 89/100\n",
            "12/12 [==============================] - 0s 9ms/step - loss: 0.0932 - accuracy: 0.9711 - val_loss: 0.0893 - val_accuracy: 0.9840\n",
            "Epoch 90/100\n",
            "12/12 [==============================] - 0s 10ms/step - loss: 0.0927 - accuracy: 0.9711 - val_loss: 0.0889 - val_accuracy: 0.9840\n",
            "Epoch 91/100\n",
            "12/12 [==============================] - 0s 12ms/step - loss: 0.0922 - accuracy: 0.9711 - val_loss: 0.0885 - val_accuracy: 0.9840\n",
            "Epoch 92/100\n",
            "12/12 [==============================] - 0s 10ms/step - loss: 0.0916 - accuracy: 0.9711 - val_loss: 0.0882 - val_accuracy: 0.9840\n",
            "Epoch 93/100\n",
            "12/12 [==============================] - 0s 9ms/step - loss: 0.0911 - accuracy: 0.9738 - val_loss: 0.0878 - val_accuracy: 0.9840\n",
            "Epoch 94/100\n",
            "12/12 [==============================] - 0s 9ms/step - loss: 0.0906 - accuracy: 0.9738 - val_loss: 0.0875 - val_accuracy: 0.9840\n",
            "Epoch 95/100\n",
            "12/12 [==============================] - 0s 10ms/step - loss: 0.0901 - accuracy: 0.9738 - val_loss: 0.0872 - val_accuracy: 0.9840\n",
            "Epoch 96/100\n",
            "12/12 [==============================] - 0s 9ms/step - loss: 0.0896 - accuracy: 0.9738 - val_loss: 0.0868 - val_accuracy: 0.9840\n",
            "Epoch 97/100\n",
            "12/12 [==============================] - 0s 12ms/step - loss: 0.0891 - accuracy: 0.9738 - val_loss: 0.0865 - val_accuracy: 0.9840\n",
            "Epoch 98/100\n",
            "12/12 [==============================] - 0s 9ms/step - loss: 0.0887 - accuracy: 0.9738 - val_loss: 0.0862 - val_accuracy: 0.9840\n",
            "Epoch 99/100\n",
            "12/12 [==============================] - 0s 12ms/step - loss: 0.0882 - accuracy: 0.9738 - val_loss: 0.0859 - val_accuracy: 0.9840\n",
            "Epoch 100/100\n",
            "12/12 [==============================] - 0s 8ms/step - loss: 0.0878 - accuracy: 0.9738 - val_loss: 0.0857 - val_accuracy: 0.9840\n"
          ]
        }
      ]
    },
    {
      "cell_type": "code",
      "source": [
        "print(\"Train score: \", model.evaluate(x_train, y_train))\n",
        "print(\"Test score: \", model.evaluate(x_test, y_test))"
      ],
      "metadata": {
        "colab": {
          "base_uri": "https://localhost:8080/"
        },
        "id": "bOQv-Rg6CXMf",
        "outputId": "9d84a746-aaa5-4511-9fd3-30df5ff5bdfd"
      },
      "execution_count": 15,
      "outputs": [
        {
          "output_type": "stream",
          "name": "stdout",
          "text": [
            "12/12 [==============================] - 0s 2ms/step - loss: 0.0874 - accuracy: 0.9738\n",
            "Train score:  [0.08742118626832962, 0.9737532734870911]\n",
            "6/6 [==============================] - 0s 3ms/step - loss: 0.0857 - accuracy: 0.9840\n",
            "Test score:  [0.08566316962242126, 0.9840425252914429]\n"
          ]
        }
      ]
    },
    {
      "cell_type": "code",
      "source": [
        "import matplotlib.pyplot as plt\n",
        "plt.plot(r.history['loss'], label='loss')\n",
        "plt.plot(r.history['val_loss'], label='val_loss')\n",
        "plt.legend(loc=\"upper right\")\n",
        "plt.show()"
      ],
      "metadata": {
        "colab": {
          "base_uri": "https://localhost:8080/",
          "height": 434
        },
        "id": "Rcr0JYNoDANe",
        "outputId": "cc383c70-e54e-4839-9668-b12b755ec919"
      },
      "execution_count": 16,
      "outputs": [
        {
          "output_type": "display_data",
          "data": {
            "text/plain": [
              "<Figure size 640x480 with 1 Axes>"
            ],
            "image/png": "[encoded data removed]"
          },
          "metadata": {}
        }
      ]
    },
    {
      "cell_type": "code",
      "source": [
        "plt.plot(r.history['accuracy'], label='acc')\n",
        "plt.plot(r.history['val_accuracy'], label='val_acc')\n",
        "plt.legend(loc=\"upper right\")\n",
        "plt.show()"
      ],
      "metadata": {
        "colab": {
          "base_uri": "https://localhost:8080/",
          "height": 430
        },
        "id": "azpeZZdYDf8q",
        "outputId": "49fc4f9e-0f78-493b-f2d2-773f7282c37d"
      },
      "execution_count": 17,
      "outputs": [
        {
          "output_type": "display_data",
          "data": {
            "text/plain": [
              "<Figure size 640x480 with 1 Axes>"
            ],
            "image/png": "[encoded data removed]"
          },
          "metadata": {}
        }
      ]
    },
    {
      "cell_type": "markdown",
      "source": [
        "# **Making predictions**"
      ],
      "metadata": {
        "id": "BqwYoNTHEbY4"
      }
    },
    {
      "cell_type": "code",
      "source": [
        "P=model.predict(x_test)\n",
        "print(P)"
      ],
      "metadata": {
        "id": "vruSDH1dDtPW",
        "colab": {
          "base_uri": "https://localhost:8080/"
        },
        "outputId": "61cc78f3-7f1a-43f2-c544-6b6a35007b07"
      },
      "execution_count": 18,
      "outputs": [
        {
          "output_type": "stream",
          "name": "stdout",
          "text": [
            "6/6 [==============================] - 0s 3ms/step\n",
            "[[9.5134592e-01]\n",
            " [9.9549496e-01]\n",
            " [9.7564077e-01]\n",
            " [9.9081612e-01]\n",
            " [9.9804664e-01]\n",
            " [9.8130567e-16]\n",
            " [7.0954627e-01]\n",
            " [9.7604150e-01]\n",
            " [9.8537111e-01]\n",
            " [9.2424738e-01]\n",
            " [9.9746239e-01]\n",
            " [9.0709776e-01]\n",
            " [9.8841840e-01]\n",
            " [2.3464049e-01]\n",
            " [9.9464226e-01]\n",
            " [9.5134646e-01]\n",
            " [9.9843508e-01]\n",
            " [2.8308632e-04]\n",
            " [9.9730980e-01]\n",
            " [4.9954023e-02]\n",
            " [9.9172676e-01]\n",
            " [9.8721701e-01]\n",
            " [9.9777067e-01]\n",
            " [9.9851757e-01]\n",
            " [9.9919623e-01]\n",
            " [1.9542818e-05]\n",
            " [9.8116964e-01]\n",
            " [9.9978322e-01]\n",
            " [4.0663204e-01]\n",
            " [5.8413502e-02]\n",
            " [1.8338487e-03]\n",
            " [9.6387953e-01]\n",
            " [9.9995267e-01]\n",
            " [4.5531884e-05]\n",
            " [9.8836178e-01]\n",
            " [9.0313040e-02]\n",
            " [9.9657959e-01]\n",
            " [9.9963558e-01]\n",
            " [9.1245681e-01]\n",
            " [1.2192579e-01]\n",
            " [3.9230622e-02]\n",
            " [9.9838161e-01]\n",
            " [9.7897559e-01]\n",
            " [9.8945099e-01]\n",
            " [9.9900001e-01]\n",
            " [9.9990785e-01]\n",
            " [9.6674293e-01]\n",
            " [2.0243391e-02]\n",
            " [9.2684948e-01]\n",
            " [9.9531400e-01]\n",
            " [1.7190093e-02]\n",
            " [9.7448039e-01]\n",
            " [3.8204124e-08]\n",
            " [9.6015573e-02]\n",
            " [9.9957591e-01]\n",
            " [9.8299176e-01]\n",
            " [2.9634508e-01]\n",
            " [3.9018488e-01]\n",
            " [9.5699120e-01]\n",
            " [9.9517149e-01]\n",
            " [7.7391708e-01]\n",
            " [9.7379106e-01]\n",
            " [4.0881128e-05]\n",
            " [1.4340467e-02]\n",
            " [7.8706598e-01]\n",
            " [4.4197548e-02]\n",
            " [3.6274248e-01]\n",
            " [4.3815307e-04]\n",
            " [9.3513542e-01]\n",
            " [9.7487849e-01]\n",
            " [1.0753068e-02]\n",
            " [9.9990070e-01]\n",
            " [9.6412373e-01]\n",
            " [9.1224068e-01]\n",
            " [9.3950585e-13]\n",
            " [9.4645900e-01]\n",
            " [9.4872046e-01]\n",
            " [4.5228656e-03]\n",
            " [9.1085577e-01]\n",
            " [9.9774998e-01]\n",
            " [2.8917359e-03]\n",
            " [9.8362905e-01]\n",
            " [9.7092301e-01]\n",
            " [2.6026510e-07]\n",
            " [9.8908526e-01]\n",
            " [9.8936033e-01]\n",
            " [9.4942868e-01]\n",
            " [9.4834226e-01]\n",
            " [9.9222177e-01]\n",
            " [9.6237022e-01]\n",
            " [9.8016709e-01]\n",
            " [4.5087472e-01]\n",
            " [9.8555738e-01]\n",
            " [1.0717104e-02]\n",
            " [7.5826124e-06]\n",
            " [4.2838231e-01]\n",
            " [8.1863916e-01]\n",
            " [7.1378314e-01]\n",
            " [4.3471432e-06]\n",
            " [9.8398972e-01]\n",
            " [9.6992624e-01]\n",
            " [9.9634176e-01]\n",
            " [9.8978615e-01]\n",
            " [9.7910607e-01]\n",
            " [8.3625776e-01]\n",
            " [8.2657087e-01]\n",
            " [4.1787088e-02]\n",
            " [9.9751616e-01]\n",
            " [9.9871194e-01]\n",
            " [3.8433101e-02]\n",
            " [1.4519870e-04]\n",
            " [5.4183858e-04]\n",
            " [9.5239915e-03]\n",
            " [9.9567872e-01]\n",
            " [9.9558759e-01]\n",
            " [9.9921119e-01]\n",
            " [9.9796259e-01]\n",
            " [9.9775785e-01]\n",
            " [8.7627850e-04]\n",
            " [8.7419617e-01]\n",
            " [8.8307321e-02]\n",
            " [9.9599385e-01]\n",
            " [8.1794298e-01]\n",
            " [9.9994874e-01]\n",
            " [9.9113852e-01]\n",
            " [9.9888796e-01]\n",
            " [9.9889588e-01]\n",
            " [8.0991949e-06]\n",
            " [2.2793937e-01]\n",
            " [9.8694372e-01]\n",
            " [9.9887627e-01]\n",
            " [9.7764164e-01]\n",
            " [1.0637595e-01]\n",
            " [9.9713373e-01]\n",
            " [9.9462789e-01]\n",
            " [1.7660251e-06]\n",
            " [5.4797173e-01]\n",
            " [2.2146474e-04]\n",
            " [7.5744197e-02]\n",
            " [9.9859875e-01]\n",
            " [9.9926442e-01]\n",
            " [6.0695896e-07]\n",
            " [1.3382644e-05]\n",
            " [9.2165208e-01]\n",
            " [9.4134474e-01]\n",
            " [4.8151486e-02]\n",
            " [8.2741076e-01]\n",
            " [6.4678776e-01]\n",
            " [1.4555276e-06]\n",
            " [1.5234287e-03]\n",
            " [9.9951243e-01]\n",
            " [8.8856781e-01]\n",
            " [9.9697101e-01]\n",
            " [2.8378991e-03]\n",
            " [5.7407152e-03]\n",
            " [9.9065548e-01]\n",
            " [9.7923571e-01]\n",
            " [1.4991243e-05]\n",
            " [8.8080871e-01]\n",
            " [9.9254382e-01]\n",
            " [1.0485469e-02]\n",
            " [9.9589807e-01]\n",
            " [9.8705250e-01]\n",
            " [9.9241769e-01]\n",
            " [9.9212533e-01]\n",
            " [9.8560274e-01]\n",
            " [9.9432147e-01]\n",
            " [9.9754483e-01]\n",
            " [1.3579576e-02]\n",
            " [9.1944039e-01]\n",
            " [9.2237252e-01]\n",
            " [1.0468962e-04]\n",
            " [9.9547231e-01]\n",
            " [8.0511379e-01]\n",
            " [7.9620680e-05]\n",
            " [5.7219033e-04]\n",
            " [9.9379718e-01]\n",
            " [9.2537820e-01]\n",
            " [9.8181248e-01]\n",
            " [6.7555666e-02]\n",
            " [1.3761668e-01]\n",
            " [6.0727090e-02]\n",
            " [9.9430168e-01]\n",
            " [9.8730344e-01]\n",
            " [6.9326902e-04]\n",
            " [9.9619293e-01]\n",
            " [9.9957675e-01]\n",
            " [9.7907466e-01]]\n"
          ]
        }
      ]
    },
    {
      "cell_type": "code",
      "source": [
        "import numpy as np\n",
        "P=np.round(P).flatten()\n",
        "print(P)"
      ],
      "metadata": {
        "colab": {
          "base_uri": "https://localhost:8080/"
        },
        "id": "kKSKMbSrE6yB",
        "outputId": "e914d84b-e85a-46c4-d1f8-48751a41267d"
      },
      "execution_count": 19,
      "outputs": [
        {
          "output_type": "stream",
          "name": "stdout",
          "text": [
            "[1. 1. 1. 1. 1. 0. 1. 1. 1. 1. 1. 1. 1. 0. 1. 1. 1. 0. 1. 0. 1. 1. 1. 1.\n",
            " 1. 0. 1. 1. 0. 0. 0. 1. 1. 0. 1. 0. 1. 1. 1. 0. 0. 1. 1. 1. 1. 1. 1. 0.\n",
            " 1. 1. 0. 1. 0. 0. 1. 1. 0. 0. 1. 1. 1. 1. 0. 0. 1. 0. 0. 0. 1. 1. 0. 1.\n",
            " 1. 1. 0. 1. 1. 0. 1. 1. 0. 1. 1. 0. 1. 1. 1. 1. 1. 1. 1. 0. 1. 0. 0. 0.\n",
            " 1. 1. 0. 1. 1. 1. 1. 1. 1. 1. 0. 1. 1. 0. 0. 0. 0. 1. 1. 1. 1. 1. 0. 1.\n",
            " 0. 1. 1. 1. 1. 1. 1. 0. 0. 1. 1. 1. 0. 1. 1. 0. 1. 0. 0. 1. 1. 0. 0. 1.\n",
            " 1. 0. 1. 1. 0. 0. 1. 1. 1. 0. 0. 1. 1. 0. 1. 1. 0. 1. 1. 1. 1. 1. 1. 1.\n",
            " 0. 1. 1. 0. 1. 1. 0. 0. 1. 1. 1. 0. 0. 0. 1. 1. 0. 1. 1. 1.]\n"
          ]
        }
      ]
    },
    {
      "cell_type": "code",
      "source": [
        "print(\"Manually calculated accuracy: \", np.mean(P==y_test))\n",
        "print(\"Evaluate output: \", model.evaluate(x_test, y_test))"
      ],
      "metadata": {
        "colab": {
          "base_uri": "https://localhost:8080/"
        },
        "id": "7H2WNjVNFLmx",
        "outputId": "f0f9395f-8c3d-441e-f85c-bce379507124"
      },
      "execution_count": 20,
      "outputs": [
        {
          "output_type": "stream",
          "name": "stdout",
          "text": [
            "Manually calculated accuracy:  0.9840425531914894\n",
            "6/6 [==============================] - 0s 4ms/step - loss: 0.0857 - accuracy: 0.9840\n",
            "Evaluate output:  [0.08566316962242126, 0.9840425252914429]\n"
          ]
        }
      ]
    },
    {
      "cell_type": "code",
      "source": [],
      "metadata": {
        "id": "TdDj3kzHF0wO"
      },
      "execution_count": null,
      "outputs": []
    }
  ]
}