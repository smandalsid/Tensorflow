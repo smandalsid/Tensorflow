{
  "nbformat": 4,
  "nbformat_minor": 0,
  "metadata": {
    "colab": {
      "provenance": [],
      "gpuType": "T4",
      "authorship_tag": "ABX9TyNGmYKlAZx6luxNHSNkUmgB",
      "include_colab_link": true
    },
    "kernelspec": {
      "name": "python3",
      "display_name": "Python 3"
    },
    "language_info": {
      "name": "python"
    },
    "accelerator": "GPU"
  },
  "cells": [
    {
      "cell_type": "markdown",
      "metadata": {
        "id": "view-in-github",
        "colab_type": "text"
      },
      "source": [
        "<a href=\"https://colab.research.google.com/github/smandalsid/Tensorflow/blob/main/Sec3_Classification.ipynb\" target=\"_parent\"><img src=\"https://colab.research.google.com/assets/colab-badge.svg\" alt=\"Open In Colab\"/></a>"
      ]
    },
    {
      "cell_type": "code",
      "execution_count": 1,
      "metadata": {
        "id": "keg8j5r49hQm"
      },
      "outputs": [],
      "source": [
        "import tensorflow as tf\n",
        "from sklearn.datasets import load_breast_cancer"
      ]
    },
    {
      "cell_type": "code",
      "source": [
        "data=load_breast_cancer()\n",
        "data"
      ],
      "metadata": {
        "colab": {
          "base_uri": "https://localhost:8080/"
        },
        "id": "gSzYALOy-nkG",
        "outputId": "fb4c6bbb-ba1c-41ef-aa40-e808851a840e"
      },
      "execution_count": 2,
      "outputs": [
        {
          "output_type": "execute_result",
          "data": {
            "text/plain": [
              "{'data': array([[1.799e+01, 1.038e+01, 1.228e+02, ..., 2.654e-01, 4.601e-01,\n",
              "         1.189e-01],\n",
              "        [2.057e+01, 1.777e+01, 1.329e+02, ..., 1.860e-01, 2.750e-01,\n",
              "         8.902e-02],\n",
              "        [1.969e+01, 2.125e+01, 1.300e+02, ..., 2.430e-01, 3.613e-01,\n",
              "         8.758e-02],\n",
              "        ...,\n",
              "        [1.660e+01, 2.808e+01, 1.083e+02, ..., 1.418e-01, 2.218e-01,\n",
              "         7.820e-02],\n",
              "        [2.060e+01, 2.933e+01, 1.401e+02, ..., 2.650e-01, 4.087e-01,\n",
              "         1.240e-01],\n",
              "        [7.760e+00, 2.454e+01, 4.792e+01, ..., 0.000e+00, 2.871e-01,\n",
              "         7.039e-02]]),\n",
              " 'target': array([0, 0, 0, 0, 0, 0, 0, 0, 0, 0, 0, 0, 0, 0, 0, 0, 0, 0, 0, 1, 1, 1,\n",
              "        0, 0, 0, 0, 0, 0, 0, 0, 0, 0, 0, 0, 0, 0, 0, 1, 0, 0, 0, 0, 0, 0,\n",
              "        0, 0, 1, 0, 1, 1, 1, 1, 1, 0, 0, 1, 0, 0, 1, 1, 1, 1, 0, 1, 0, 0,\n",
              "        1, 1, 1, 1, 0, 1, 0, 0, 1, 0, 1, 0, 0, 1, 1, 1, 0, 0, 1, 0, 0, 0,\n",
              "        1, 1, 1, 0, 1, 1, 0, 0, 1, 1, 1, 0, 0, 1, 1, 1, 1, 0, 1, 1, 0, 1,\n",
              "        1, 1, 1, 1, 1, 1, 1, 0, 0, 0, 1, 0, 0, 1, 1, 1, 0, 0, 1, 0, 1, 0,\n",
              "        0, 1, 0, 0, 1, 1, 0, 1, 1, 0, 1, 1, 1, 1, 0, 1, 1, 1, 1, 1, 1, 1,\n",
              "        1, 1, 0, 1, 1, 1, 1, 0, 0, 1, 0, 1, 1, 0, 0, 1, 1, 0, 0, 1, 1, 1,\n",
              "        1, 0, 1, 1, 0, 0, 0, 1, 0, 1, 0, 1, 1, 1, 0, 1, 1, 0, 0, 1, 0, 0,\n",
              "        0, 0, 1, 0, 0, 0, 1, 0, 1, 0, 1, 1, 0, 1, 0, 0, 0, 0, 1, 1, 0, 0,\n",
              "        1, 1, 1, 0, 1, 1, 1, 1, 1, 0, 0, 1, 1, 0, 1, 1, 0, 0, 1, 0, 1, 1,\n",
              "        1, 1, 0, 1, 1, 1, 1, 1, 0, 1, 0, 0, 0, 0, 0, 0, 0, 0, 0, 0, 0, 0,\n",
              "        0, 0, 1, 1, 1, 1, 1, 1, 0, 1, 0, 1, 1, 0, 1, 1, 0, 1, 0, 0, 1, 1,\n",
              "        1, 1, 1, 1, 1, 1, 1, 1, 1, 1, 1, 0, 1, 1, 0, 1, 0, 1, 1, 1, 1, 1,\n",
              "        1, 1, 1, 1, 1, 1, 1, 1, 1, 0, 1, 1, 1, 0, 1, 0, 1, 1, 1, 1, 0, 0,\n",
              "        0, 1, 1, 1, 1, 0, 1, 0, 1, 0, 1, 1, 1, 0, 1, 1, 1, 1, 1, 1, 1, 0,\n",
              "        0, 0, 1, 1, 1, 1, 1, 1, 1, 1, 1, 1, 1, 0, 0, 1, 0, 0, 0, 1, 0, 0,\n",
              "        1, 1, 1, 1, 1, 0, 1, 1, 1, 1, 1, 0, 1, 1, 1, 0, 1, 1, 0, 0, 1, 1,\n",
              "        1, 1, 1, 1, 0, 1, 1, 1, 1, 1, 1, 1, 0, 1, 1, 1, 1, 1, 0, 1, 1, 0,\n",
              "        1, 1, 1, 1, 1, 1, 1, 1, 1, 1, 1, 1, 0, 1, 0, 0, 1, 0, 1, 1, 1, 1,\n",
              "        1, 0, 1, 1, 0, 1, 0, 1, 1, 0, 1, 0, 1, 1, 1, 1, 1, 1, 1, 1, 0, 0,\n",
              "        1, 1, 1, 1, 1, 1, 0, 1, 1, 1, 1, 1, 1, 1, 1, 1, 1, 0, 1, 1, 1, 1,\n",
              "        1, 1, 1, 0, 1, 0, 1, 1, 0, 1, 1, 1, 1, 1, 0, 0, 1, 0, 1, 0, 1, 1,\n",
              "        1, 1, 1, 0, 1, 1, 0, 1, 0, 1, 0, 0, 1, 1, 1, 0, 1, 1, 1, 1, 1, 1,\n",
              "        1, 1, 1, 1, 1, 0, 1, 0, 0, 1, 1, 1, 1, 1, 1, 1, 1, 1, 1, 1, 1, 1,\n",
              "        1, 1, 1, 1, 1, 1, 1, 1, 1, 1, 1, 1, 0, 0, 0, 0, 0, 0, 1]),\n",
              " 'frame': None,\n",
              " 'target_names': array(['malignant', 'benign'], dtype='<U9'),\n",
              " 'DESCR': '.. _breast_cancer_dataset:\\n\\nBreast cancer wisconsin (diagnostic) dataset\\n--------------------------------------------\\n\\n**Data Set Characteristics:**\\n\\n    :Number of Instances: 569\\n\\n    :Number of Attributes: 30 numeric, predictive attributes and the class\\n\\n    :Attribute Information:\\n        - radius (mean of distances from center to points on the perimeter)\\n        - texture (standard deviation of gray-scale values)\\n        - perimeter\\n        - area\\n        - smoothness (local variation in radius lengths)\\n        - compactness (perimeter^2 / area - 1.0)\\n        - concavity (severity of concave portions of the contour)\\n        - concave points (number of concave portions of the contour)\\n        - symmetry\\n        - fractal dimension (\"coastline approximation\" - 1)\\n\\n        The mean, standard error, and \"worst\" or largest (mean of the three\\n        worst/largest values) of these features were computed for each image,\\n        resulting in 30 features.  For instance, field 0 is Mean Radius, field\\n        10 is Radius SE, field 20 is Worst Radius.\\n\\n        - class:\\n                - WDBC-Malignant\\n                - WDBC-Benign\\n\\n    :Summary Statistics:\\n\\n    ===================================== ====== ======\\n                                           Min    Max\\n    ===================================== ====== ======\\n    radius (mean):                        6.981  28.11\\n    texture (mean):                       9.71   39.28\\n    perimeter (mean):                     43.79  188.5\\n    area (mean):                          143.5  2501.0\\n    smoothness (mean):                    0.053  0.163\\n    compactness (mean):                   0.019  0.345\\n    concavity (mean):                     0.0    0.427\\n    concave points (mean):                0.0    0.201\\n    symmetry (mean):                      0.106  0.304\\n    fractal dimension (mean):             0.05   0.097\\n    radius (standard error):              0.112  2.873\\n    texture (standard error):             0.36   4.885\\n    perimeter (standard error):           0.757  21.98\\n    area (standard error):                6.802  542.2\\n    smoothness (standard error):          0.002  0.031\\n    compactness (standard error):         0.002  0.135\\n    concavity (standard error):           0.0    0.396\\n    concave points (standard error):      0.0    0.053\\n    symmetry (standard error):            0.008  0.079\\n    fractal dimension (standard error):   0.001  0.03\\n    radius (worst):                       7.93   36.04\\n    texture (worst):                      12.02  49.54\\n    perimeter (worst):                    50.41  251.2\\n    area (worst):                         185.2  4254.0\\n    smoothness (worst):                   0.071  0.223\\n    compactness (worst):                  0.027  1.058\\n    concavity (worst):                    0.0    1.252\\n    concave points (worst):               0.0    0.291\\n    symmetry (worst):                     0.156  0.664\\n    fractal dimension (worst):            0.055  0.208\\n    ===================================== ====== ======\\n\\n    :Missing Attribute Values: None\\n\\n    :Class Distribution: 212 - Malignant, 357 - Benign\\n\\n    :Creator:  Dr. William H. Wolberg, W. Nick Street, Olvi L. Mangasarian\\n\\n    :Donor: Nick Street\\n\\n    :Date: November, 1995\\n\\nThis is a copy of UCI ML Breast Cancer Wisconsin (Diagnostic) datasets.\\nhttps://goo.gl/U2Uwz2\\n\\nFeatures are computed from a digitized image of a fine needle\\naspirate (FNA) of a breast mass.  They describe\\ncharacteristics of the cell nuclei present in the image.\\n\\nSeparating plane described above was obtained using\\nMultisurface Method-Tree (MSM-T) [K. P. Bennett, \"Decision Tree\\nConstruction Via Linear Programming.\" Proceedings of the 4th\\nMidwest Artificial Intelligence and Cognitive Science Society,\\npp. 97-101, 1992], a classification method which uses linear\\nprogramming to construct a decision tree.  Relevant features\\nwere selected using an exhaustive search in the space of 1-4\\nfeatures and 1-3 separating planes.\\n\\nThe actual linear program used to obtain the separating plane\\nin the 3-dimensional space is that described in:\\n[K. P. Bennett and O. L. Mangasarian: \"Robust Linear\\nProgramming Discrimination of Two Linearly Inseparable Sets\",\\nOptimization Methods and Software 1, 1992, 23-34].\\n\\nThis database is also available through the UW CS ftp server:\\n\\nftp ftp.cs.wisc.edu\\ncd math-prog/cpo-dataset/machine-learn/WDBC/\\n\\n.. topic:: References\\n\\n   - W.N. Street, W.H. Wolberg and O.L. Mangasarian. Nuclear feature extraction \\n     for breast tumor diagnosis. IS&T/SPIE 1993 International Symposium on \\n     Electronic Imaging: Science and Technology, volume 1905, pages 861-870,\\n     San Jose, CA, 1993.\\n   - O.L. Mangasarian, W.N. Street and W.H. Wolberg. Breast cancer diagnosis and \\n     prognosis via linear programming. Operations Research, 43(4), pages 570-577, \\n     July-August 1995.\\n   - W.H. Wolberg, W.N. Street, and O.L. Mangasarian. Machine learning techniques\\n     to diagnose breast cancer from fine-needle aspirates. Cancer Letters 77 (1994) \\n     163-171.',\n",
              " 'feature_names': array(['mean radius', 'mean texture', 'mean perimeter', 'mean area',\n",
              "        'mean smoothness', 'mean compactness', 'mean concavity',\n",
              "        'mean concave points', 'mean symmetry', 'mean fractal dimension',\n",
              "        'radius error', 'texture error', 'perimeter error', 'area error',\n",
              "        'smoothness error', 'compactness error', 'concavity error',\n",
              "        'concave points error', 'symmetry error',\n",
              "        'fractal dimension error', 'worst radius', 'worst texture',\n",
              "        'worst perimeter', 'worst area', 'worst smoothness',\n",
              "        'worst compactness', 'worst concavity', 'worst concave points',\n",
              "        'worst symmetry', 'worst fractal dimension'], dtype='<U23'),\n",
              " 'filename': 'breast_cancer.csv',\n",
              " 'data_module': 'sklearn.datasets.data'}"
            ]
          },
          "metadata": {},
          "execution_count": 2
        }
      ]
    },
    {
      "cell_type": "code",
      "source": [
        "data.data"
      ],
      "metadata": {
        "colab": {
          "base_uri": "https://localhost:8080/"
        },
        "id": "W3xOsoQI-vTQ",
        "outputId": "69b30b4d-558b-46ca-ad12-23d2a00df94b"
      },
      "execution_count": 3,
      "outputs": [
        {
          "output_type": "execute_result",
          "data": {
            "text/plain": [
              "array([[1.799e+01, 1.038e+01, 1.228e+02, ..., 2.654e-01, 4.601e-01,\n",
              "        1.189e-01],\n",
              "       [2.057e+01, 1.777e+01, 1.329e+02, ..., 1.860e-01, 2.750e-01,\n",
              "        8.902e-02],\n",
              "       [1.969e+01, 2.125e+01, 1.300e+02, ..., 2.430e-01, 3.613e-01,\n",
              "        8.758e-02],\n",
              "       ...,\n",
              "       [1.660e+01, 2.808e+01, 1.083e+02, ..., 1.418e-01, 2.218e-01,\n",
              "        7.820e-02],\n",
              "       [2.060e+01, 2.933e+01, 1.401e+02, ..., 2.650e-01, 4.087e-01,\n",
              "        1.240e-01],\n",
              "       [7.760e+00, 2.454e+01, 4.792e+01, ..., 0.000e+00, 2.871e-01,\n",
              "        7.039e-02]])"
            ]
          },
          "metadata": {},
          "execution_count": 3
        }
      ]
    },
    {
      "cell_type": "code",
      "source": [
        "data.data.shape"
      ],
      "metadata": {
        "colab": {
          "base_uri": "https://localhost:8080/"
        },
        "id": "aPEv_IBE-7Xg",
        "outputId": "1292d286-dada-409c-b2e1-db1e35d25936"
      },
      "execution_count": 4,
      "outputs": [
        {
          "output_type": "execute_result",
          "data": {
            "text/plain": [
              "(569, 30)"
            ]
          },
          "metadata": {},
          "execution_count": 4
        }
      ]
    },
    {
      "cell_type": "code",
      "source": [
        "data.target\n",
        "# indicates a binary classification problem"
      ],
      "metadata": {
        "colab": {
          "base_uri": "https://localhost:8080/"
        },
        "id": "AX0i6EbH--Bl",
        "outputId": "7e02836b-7de7-451a-b38c-a6816d8553f8"
      },
      "execution_count": 5,
      "outputs": [
        {
          "output_type": "execute_result",
          "data": {
            "text/plain": [
              "array([0, 0, 0, 0, 0, 0, 0, 0, 0, 0, 0, 0, 0, 0, 0, 0, 0, 0, 0, 1, 1, 1,\n",
              "       0, 0, 0, 0, 0, 0, 0, 0, 0, 0, 0, 0, 0, 0, 0, 1, 0, 0, 0, 0, 0, 0,\n",
              "       0, 0, 1, 0, 1, 1, 1, 1, 1, 0, 0, 1, 0, 0, 1, 1, 1, 1, 0, 1, 0, 0,\n",
              "       1, 1, 1, 1, 0, 1, 0, 0, 1, 0, 1, 0, 0, 1, 1, 1, 0, 0, 1, 0, 0, 0,\n",
              "       1, 1, 1, 0, 1, 1, 0, 0, 1, 1, 1, 0, 0, 1, 1, 1, 1, 0, 1, 1, 0, 1,\n",
              "       1, 1, 1, 1, 1, 1, 1, 0, 0, 0, 1, 0, 0, 1, 1, 1, 0, 0, 1, 0, 1, 0,\n",
              "       0, 1, 0, 0, 1, 1, 0, 1, 1, 0, 1, 1, 1, 1, 0, 1, 1, 1, 1, 1, 1, 1,\n",
              "       1, 1, 0, 1, 1, 1, 1, 0, 0, 1, 0, 1, 1, 0, 0, 1, 1, 0, 0, 1, 1, 1,\n",
              "       1, 0, 1, 1, 0, 0, 0, 1, 0, 1, 0, 1, 1, 1, 0, 1, 1, 0, 0, 1, 0, 0,\n",
              "       0, 0, 1, 0, 0, 0, 1, 0, 1, 0, 1, 1, 0, 1, 0, 0, 0, 0, 1, 1, 0, 0,\n",
              "       1, 1, 1, 0, 1, 1, 1, 1, 1, 0, 0, 1, 1, 0, 1, 1, 0, 0, 1, 0, 1, 1,\n",
              "       1, 1, 0, 1, 1, 1, 1, 1, 0, 1, 0, 0, 0, 0, 0, 0, 0, 0, 0, 0, 0, 0,\n",
              "       0, 0, 1, 1, 1, 1, 1, 1, 0, 1, 0, 1, 1, 0, 1, 1, 0, 1, 0, 0, 1, 1,\n",
              "       1, 1, 1, 1, 1, 1, 1, 1, 1, 1, 1, 0, 1, 1, 0, 1, 0, 1, 1, 1, 1, 1,\n",
              "       1, 1, 1, 1, 1, 1, 1, 1, 1, 0, 1, 1, 1, 0, 1, 0, 1, 1, 1, 1, 0, 0,\n",
              "       0, 1, 1, 1, 1, 0, 1, 0, 1, 0, 1, 1, 1, 0, 1, 1, 1, 1, 1, 1, 1, 0,\n",
              "       0, 0, 1, 1, 1, 1, 1, 1, 1, 1, 1, 1, 1, 0, 0, 1, 0, 0, 0, 1, 0, 0,\n",
              "       1, 1, 1, 1, 1, 0, 1, 1, 1, 1, 1, 0, 1, 1, 1, 0, 1, 1, 0, 0, 1, 1,\n",
              "       1, 1, 1, 1, 0, 1, 1, 1, 1, 1, 1, 1, 0, 1, 1, 1, 1, 1, 0, 1, 1, 0,\n",
              "       1, 1, 1, 1, 1, 1, 1, 1, 1, 1, 1, 1, 0, 1, 0, 0, 1, 0, 1, 1, 1, 1,\n",
              "       1, 0, 1, 1, 0, 1, 0, 1, 1, 0, 1, 0, 1, 1, 1, 1, 1, 1, 1, 1, 0, 0,\n",
              "       1, 1, 1, 1, 1, 1, 0, 1, 1, 1, 1, 1, 1, 1, 1, 1, 1, 0, 1, 1, 1, 1,\n",
              "       1, 1, 1, 0, 1, 0, 1, 1, 0, 1, 1, 1, 1, 1, 0, 0, 1, 0, 1, 0, 1, 1,\n",
              "       1, 1, 1, 0, 1, 1, 0, 1, 0, 1, 0, 0, 1, 1, 1, 0, 1, 1, 1, 1, 1, 1,\n",
              "       1, 1, 1, 1, 1, 0, 1, 0, 0, 1, 1, 1, 1, 1, 1, 1, 1, 1, 1, 1, 1, 1,\n",
              "       1, 1, 1, 1, 1, 1, 1, 1, 1, 1, 1, 1, 0, 0, 0, 0, 0, 0, 1])"
            ]
          },
          "metadata": {},
          "execution_count": 5
        }
      ]
    },
    {
      "cell_type": "code",
      "source": [
        "data.target_names"
      ],
      "metadata": {
        "colab": {
          "base_uri": "https://localhost:8080/"
        },
        "id": "3nGJsgye_BVH",
        "outputId": "e3f68d3c-0515-4b14-9a0d-14b347d47351"
      },
      "execution_count": 6,
      "outputs": [
        {
          "output_type": "execute_result",
          "data": {
            "text/plain": [
              "array(['malignant', 'benign'], dtype='<U9')"
            ]
          },
          "metadata": {},
          "execution_count": 6
        }
      ]
    },
    {
      "cell_type": "code",
      "source": [
        "data.feature_names"
      ],
      "metadata": {
        "colab": {
          "base_uri": "https://localhost:8080/"
        },
        "id": "v8ByOC99_MFV",
        "outputId": "d679ad74-7bd6-4d63-f73c-290b610b78ac"
      },
      "execution_count": 7,
      "outputs": [
        {
          "output_type": "execute_result",
          "data": {
            "text/plain": [
              "array(['mean radius', 'mean texture', 'mean perimeter', 'mean area',\n",
              "       'mean smoothness', 'mean compactness', 'mean concavity',\n",
              "       'mean concave points', 'mean symmetry', 'mean fractal dimension',\n",
              "       'radius error', 'texture error', 'perimeter error', 'area error',\n",
              "       'smoothness error', 'compactness error', 'concavity error',\n",
              "       'concave points error', 'symmetry error',\n",
              "       'fractal dimension error', 'worst radius', 'worst texture',\n",
              "       'worst perimeter', 'worst area', 'worst smoothness',\n",
              "       'worst compactness', 'worst concavity', 'worst concave points',\n",
              "       'worst symmetry', 'worst fractal dimension'], dtype='<U23')"
            ]
          },
          "metadata": {},
          "execution_count": 7
        }
      ]
    },
    {
      "cell_type": "code",
      "source": [
        "from sklearn.model_selection import train_test_split\n",
        "\n",
        "x_train, x_test, y_train, y_test = train_test_split(data.data, data.target, test_size=0.33)"
      ],
      "metadata": {
        "id": "7PngKEWC_Q3N"
      },
      "execution_count": 8,
      "outputs": []
    },
    {
      "cell_type": "code",
      "source": [
        "N, D = x_train.shape"
      ],
      "metadata": {
        "id": "iV4NPFJY_okW"
      },
      "execution_count": 9,
      "outputs": []
    },
    {
      "cell_type": "code",
      "source": [
        "# N is number of data points and D is number of features\n",
        "N, D"
      ],
      "metadata": {
        "colab": {
          "base_uri": "https://localhost:8080/"
        },
        "id": "azPmDgoM_ubx",
        "outputId": "f1032261-f271-4fb7-ac02-54bd3c78d76b"
      },
      "execution_count": 10,
      "outputs": [
        {
          "output_type": "execute_result",
          "data": {
            "text/plain": [
              "(381, 30)"
            ]
          },
          "metadata": {},
          "execution_count": 10
        }
      ]
    },
    {
      "cell_type": "code",
      "source": [
        "from sklearn.preprocessing import StandardScaler\n",
        "\n",
        "scaler = StandardScaler()\n",
        "x_train = scaler.fit_transform(x_train)\n",
        "x_test=scaler.transform(x_test)"
      ],
      "metadata": {
        "id": "qOEzt9bC_041"
      },
      "execution_count": 11,
      "outputs": []
    },
    {
      "cell_type": "markdown",
      "source": [
        "tensorflow part"
      ],
      "metadata": {
        "id": "ZgsH7pA-BbCd"
      }
    },
    {
      "cell_type": "code",
      "source": [
        "model=tf.keras.models.Sequential([\n",
        "    tf.keras.layers.Input(shape=(D, )),\n",
        "    tf.keras.layers.Dense(1, activation='sigmoid')\n",
        "])"
      ],
      "metadata": {
        "id": "iQNWek1QBH4g"
      },
      "execution_count": 12,
      "outputs": []
    },
    {
      "cell_type": "code",
      "source": [
        "model.compile(optimizer='adam', loss='binary_crossentropy', metrics=['accuracy'])"
      ],
      "metadata": {
        "id": "zysAgPulB270"
      },
      "execution_count": 13,
      "outputs": []
    },
    {
      "cell_type": "code",
      "source": [
        "r=model.fit(x_train, y_train, validation_data=(x_test, y_test), epochs=100)"
      ],
      "metadata": {
        "colab": {
          "base_uri": "https://localhost:8080/"
        },
        "id": "tj_Q7Ac5CJNi",
        "outputId": "1cd360e1-ca22-4156-b8f7-5146da0840a8"
      },
      "execution_count": 14,
      "outputs": [
        {
          "output_type": "stream",
          "name": "stdout",
          "text": [
            "Epoch 1/100\n",
            "12/12 [==============================] - 8s 69ms/step - loss: 0.3711 - accuracy: 0.8714 - val_loss: 0.3545 - val_accuracy: 0.8777\n",
            "Epoch 2/100\n",
            "12/12 [==============================] - 0s 18ms/step - loss: 0.3448 - accuracy: 0.8819 - val_loss: 0.3304 - val_accuracy: 0.8936\n",
            "Epoch 3/100\n",
            "12/12 [==============================] - 0s 12ms/step - loss: 0.3221 - accuracy: 0.8924 - val_loss: 0.3089 - val_accuracy: 0.9043\n",
            "Epoch 4/100\n",
            "12/12 [==============================] - 0s 10ms/step - loss: 0.3025 - accuracy: 0.8976 - val_loss: 0.2896 - val_accuracy: 0.9043\n",
            "Epoch 5/100\n",
            "12/12 [==============================] - 0s 13ms/step - loss: 0.2858 - accuracy: 0.9003 - val_loss: 0.2723 - val_accuracy: 0.9149\n",
            "Epoch 6/100\n",
            "12/12 [==============================] - 0s 13ms/step - loss: 0.2700 - accuracy: 0.9055 - val_loss: 0.2581 - val_accuracy: 0.9309\n",
            "Epoch 7/100\n",
            "12/12 [==============================] - 0s 29ms/step - loss: 0.2570 - accuracy: 0.9134 - val_loss: 0.2452 - val_accuracy: 0.9415\n",
            "Epoch 8/100\n",
            "12/12 [==============================] - 0s 16ms/step - loss: 0.2455 - accuracy: 0.9134 - val_loss: 0.2334 - val_accuracy: 0.9415\n",
            "Epoch 9/100\n",
            "12/12 [==============================] - 0s 16ms/step - loss: 0.2347 - accuracy: 0.9186 - val_loss: 0.2234 - val_accuracy: 0.9415\n",
            "Epoch 10/100\n",
            "12/12 [==============================] - 0s 15ms/step - loss: 0.2254 - accuracy: 0.9186 - val_loss: 0.2143 - val_accuracy: 0.9415\n",
            "Epoch 11/100\n",
            "12/12 [==============================] - 0s 21ms/step - loss: 0.2170 - accuracy: 0.9213 - val_loss: 0.2059 - val_accuracy: 0.9415\n",
            "Epoch 12/100\n",
            "12/12 [==============================] - 0s 13ms/step - loss: 0.2094 - accuracy: 0.9239 - val_loss: 0.1985 - val_accuracy: 0.9415\n",
            "Epoch 13/100\n",
            "12/12 [==============================] - 0s 15ms/step - loss: 0.2024 - accuracy: 0.9265 - val_loss: 0.1916 - val_accuracy: 0.9415\n",
            "Epoch 14/100\n",
            "12/12 [==============================] - 0s 14ms/step - loss: 0.1960 - accuracy: 0.9291 - val_loss: 0.1856 - val_accuracy: 0.9468\n",
            "Epoch 15/100\n",
            "12/12 [==============================] - 0s 15ms/step - loss: 0.1905 - accuracy: 0.9318 - val_loss: 0.1799 - val_accuracy: 0.9468\n",
            "Epoch 16/100\n",
            "12/12 [==============================] - 0s 17ms/step - loss: 0.1850 - accuracy: 0.9318 - val_loss: 0.1746 - val_accuracy: 0.9468\n",
            "Epoch 17/100\n",
            "12/12 [==============================] - 0s 14ms/step - loss: 0.1802 - accuracy: 0.9344 - val_loss: 0.1698 - val_accuracy: 0.9468\n",
            "Epoch 18/100\n",
            "12/12 [==============================] - 0s 10ms/step - loss: 0.1755 - accuracy: 0.9370 - val_loss: 0.1655 - val_accuracy: 0.9468\n",
            "Epoch 19/100\n",
            "12/12 [==============================] - 0s 18ms/step - loss: 0.1714 - accuracy: 0.9370 - val_loss: 0.1613 - val_accuracy: 0.9468\n",
            "Epoch 20/100\n",
            "12/12 [==============================] - 0s 13ms/step - loss: 0.1674 - accuracy: 0.9370 - val_loss: 0.1576 - val_accuracy: 0.9468\n",
            "Epoch 21/100\n",
            "12/12 [==============================] - 0s 12ms/step - loss: 0.1639 - accuracy: 0.9370 - val_loss: 0.1540 - val_accuracy: 0.9468\n",
            "Epoch 22/100\n",
            "12/12 [==============================] - 0s 18ms/step - loss: 0.1603 - accuracy: 0.9370 - val_loss: 0.1507 - val_accuracy: 0.9468\n",
            "Epoch 23/100\n",
            "12/12 [==============================] - 0s 13ms/step - loss: 0.1572 - accuracy: 0.9396 - val_loss: 0.1475 - val_accuracy: 0.9468\n",
            "Epoch 24/100\n",
            "12/12 [==============================] - 0s 13ms/step - loss: 0.1542 - accuracy: 0.9396 - val_loss: 0.1446 - val_accuracy: 0.9468\n",
            "Epoch 25/100\n",
            "12/12 [==============================] - 0s 10ms/step - loss: 0.1512 - accuracy: 0.9396 - val_loss: 0.1419 - val_accuracy: 0.9468\n",
            "Epoch 26/100\n",
            "12/12 [==============================] - 0s 9ms/step - loss: 0.1486 - accuracy: 0.9423 - val_loss: 0.1394 - val_accuracy: 0.9521\n",
            "Epoch 27/100\n",
            "12/12 [==============================] - 0s 10ms/step - loss: 0.1460 - accuracy: 0.9423 - val_loss: 0.1368 - val_accuracy: 0.9521\n",
            "Epoch 28/100\n",
            "12/12 [==============================] - 0s 9ms/step - loss: 0.1437 - accuracy: 0.9449 - val_loss: 0.1345 - val_accuracy: 0.9521\n",
            "Epoch 29/100\n",
            "12/12 [==============================] - 0s 12ms/step - loss: 0.1414 - accuracy: 0.9449 - val_loss: 0.1324 - val_accuracy: 0.9574\n",
            "Epoch 30/100\n",
            "12/12 [==============================] - 0s 12ms/step - loss: 0.1392 - accuracy: 0.9449 - val_loss: 0.1304 - val_accuracy: 0.9574\n",
            "Epoch 31/100\n",
            "12/12 [==============================] - 0s 15ms/step - loss: 0.1372 - accuracy: 0.9449 - val_loss: 0.1283 - val_accuracy: 0.9574\n",
            "Epoch 32/100\n",
            "12/12 [==============================] - 0s 13ms/step - loss: 0.1352 - accuracy: 0.9449 - val_loss: 0.1264 - val_accuracy: 0.9574\n",
            "Epoch 33/100\n",
            "12/12 [==============================] - 0s 9ms/step - loss: 0.1333 - accuracy: 0.9449 - val_loss: 0.1247 - val_accuracy: 0.9574\n",
            "Epoch 34/100\n",
            "12/12 [==============================] - 0s 17ms/step - loss: 0.1314 - accuracy: 0.9475 - val_loss: 0.1229 - val_accuracy: 0.9574\n",
            "Epoch 35/100\n",
            "12/12 [==============================] - 0s 13ms/step - loss: 0.1297 - accuracy: 0.9501 - val_loss: 0.1214 - val_accuracy: 0.9574\n",
            "Epoch 36/100\n",
            "12/12 [==============================] - 0s 10ms/step - loss: 0.1281 - accuracy: 0.9528 - val_loss: 0.1198 - val_accuracy: 0.9574\n",
            "Epoch 37/100\n",
            "12/12 [==============================] - 0s 14ms/step - loss: 0.1265 - accuracy: 0.9554 - val_loss: 0.1183 - val_accuracy: 0.9574\n",
            "Epoch 38/100\n",
            "12/12 [==============================] - 0s 9ms/step - loss: 0.1250 - accuracy: 0.9580 - val_loss: 0.1169 - val_accuracy: 0.9574\n",
            "Epoch 39/100\n",
            "12/12 [==============================] - 0s 12ms/step - loss: 0.1235 - accuracy: 0.9580 - val_loss: 0.1155 - val_accuracy: 0.9574\n",
            "Epoch 40/100\n",
            "12/12 [==============================] - 0s 14ms/step - loss: 0.1221 - accuracy: 0.9580 - val_loss: 0.1142 - val_accuracy: 0.9574\n",
            "Epoch 41/100\n",
            "12/12 [==============================] - 0s 11ms/step - loss: 0.1207 - accuracy: 0.9606 - val_loss: 0.1130 - val_accuracy: 0.9574\n",
            "Epoch 42/100\n",
            "12/12 [==============================] - 0s 16ms/step - loss: 0.1194 - accuracy: 0.9633 - val_loss: 0.1118 - val_accuracy: 0.9628\n",
            "Epoch 43/100\n",
            "12/12 [==============================] - 0s 14ms/step - loss: 0.1182 - accuracy: 0.9659 - val_loss: 0.1106 - val_accuracy: 0.9628\n",
            "Epoch 44/100\n",
            "12/12 [==============================] - 0s 10ms/step - loss: 0.1170 - accuracy: 0.9659 - val_loss: 0.1095 - val_accuracy: 0.9628\n",
            "Epoch 45/100\n",
            "12/12 [==============================] - 0s 18ms/step - loss: 0.1158 - accuracy: 0.9659 - val_loss: 0.1084 - val_accuracy: 0.9628\n",
            "Epoch 46/100\n",
            "12/12 [==============================] - 0s 18ms/step - loss: 0.1147 - accuracy: 0.9659 - val_loss: 0.1073 - val_accuracy: 0.9628\n",
            "Epoch 47/100\n",
            "12/12 [==============================] - 0s 10ms/step - loss: 0.1135 - accuracy: 0.9659 - val_loss: 0.1063 - val_accuracy: 0.9628\n",
            "Epoch 48/100\n",
            "12/12 [==============================] - 0s 14ms/step - loss: 0.1124 - accuracy: 0.9659 - val_loss: 0.1053 - val_accuracy: 0.9628\n",
            "Epoch 49/100\n",
            "12/12 [==============================] - 0s 11ms/step - loss: 0.1114 - accuracy: 0.9659 - val_loss: 0.1044 - val_accuracy: 0.9628\n",
            "Epoch 50/100\n",
            "12/12 [==============================] - 0s 12ms/step - loss: 0.1104 - accuracy: 0.9659 - val_loss: 0.1035 - val_accuracy: 0.9681\n",
            "Epoch 51/100\n",
            "12/12 [==============================] - 0s 14ms/step - loss: 0.1094 - accuracy: 0.9659 - val_loss: 0.1026 - val_accuracy: 0.9681\n",
            "Epoch 52/100\n",
            "12/12 [==============================] - 0s 24ms/step - loss: 0.1085 - accuracy: 0.9659 - val_loss: 0.1017 - val_accuracy: 0.9681\n",
            "Epoch 53/100\n",
            "12/12 [==============================] - 0s 21ms/step - loss: 0.1076 - accuracy: 0.9685 - val_loss: 0.1010 - val_accuracy: 0.9681\n",
            "Epoch 54/100\n",
            "12/12 [==============================] - 0s 17ms/step - loss: 0.1068 - accuracy: 0.9711 - val_loss: 0.1001 - val_accuracy: 0.9681\n",
            "Epoch 55/100\n",
            "12/12 [==============================] - 0s 8ms/step - loss: 0.1058 - accuracy: 0.9711 - val_loss: 0.0994 - val_accuracy: 0.9681\n",
            "Epoch 56/100\n",
            "12/12 [==============================] - 0s 15ms/step - loss: 0.1050 - accuracy: 0.9711 - val_loss: 0.0986 - val_accuracy: 0.9681\n",
            "Epoch 57/100\n",
            "12/12 [==============================] - 0s 18ms/step - loss: 0.1042 - accuracy: 0.9711 - val_loss: 0.0979 - val_accuracy: 0.9681\n",
            "Epoch 58/100\n",
            "12/12 [==============================] - 0s 22ms/step - loss: 0.1034 - accuracy: 0.9711 - val_loss: 0.0972 - val_accuracy: 0.9681\n",
            "Epoch 59/100\n",
            "12/12 [==============================] - 0s 24ms/step - loss: 0.1027 - accuracy: 0.9711 - val_loss: 0.0964 - val_accuracy: 0.9681\n",
            "Epoch 60/100\n",
            "12/12 [==============================] - 0s 25ms/step - loss: 0.1019 - accuracy: 0.9738 - val_loss: 0.0958 - val_accuracy: 0.9681\n",
            "Epoch 61/100\n",
            "12/12 [==============================] - 0s 19ms/step - loss: 0.1011 - accuracy: 0.9738 - val_loss: 0.0951 - val_accuracy: 0.9681\n",
            "Epoch 62/100\n",
            "12/12 [==============================] - 0s 37ms/step - loss: 0.1004 - accuracy: 0.9738 - val_loss: 0.0945 - val_accuracy: 0.9681\n",
            "Epoch 63/100\n",
            "12/12 [==============================] - 0s 26ms/step - loss: 0.0997 - accuracy: 0.9738 - val_loss: 0.0939 - val_accuracy: 0.9681\n",
            "Epoch 64/100\n",
            "12/12 [==============================] - 0s 29ms/step - loss: 0.0991 - accuracy: 0.9738 - val_loss: 0.0933 - val_accuracy: 0.9681\n",
            "Epoch 65/100\n",
            "12/12 [==============================] - 0s 25ms/step - loss: 0.0984 - accuracy: 0.9764 - val_loss: 0.0927 - val_accuracy: 0.9681\n",
            "Epoch 66/100\n",
            "12/12 [==============================] - 0s 15ms/step - loss: 0.0978 - accuracy: 0.9764 - val_loss: 0.0920 - val_accuracy: 0.9681\n",
            "Epoch 67/100\n",
            "12/12 [==============================] - 0s 19ms/step - loss: 0.0971 - accuracy: 0.9790 - val_loss: 0.0915 - val_accuracy: 0.9681\n",
            "Epoch 68/100\n",
            "12/12 [==============================] - 0s 11ms/step - loss: 0.0965 - accuracy: 0.9816 - val_loss: 0.0909 - val_accuracy: 0.9681\n",
            "Epoch 69/100\n",
            "12/12 [==============================] - 0s 13ms/step - loss: 0.0959 - accuracy: 0.9816 - val_loss: 0.0904 - val_accuracy: 0.9681\n",
            "Epoch 70/100\n",
            "12/12 [==============================] - 0s 9ms/step - loss: 0.0953 - accuracy: 0.9816 - val_loss: 0.0899 - val_accuracy: 0.9681\n",
            "Epoch 71/100\n",
            "12/12 [==============================] - 0s 14ms/step - loss: 0.0947 - accuracy: 0.9816 - val_loss: 0.0894 - val_accuracy: 0.9681\n",
            "Epoch 72/100\n",
            "12/12 [==============================] - 0s 11ms/step - loss: 0.0942 - accuracy: 0.9816 - val_loss: 0.0889 - val_accuracy: 0.9734\n",
            "Epoch 73/100\n",
            "12/12 [==============================] - 0s 13ms/step - loss: 0.0936 - accuracy: 0.9816 - val_loss: 0.0883 - val_accuracy: 0.9734\n",
            "Epoch 74/100\n",
            "12/12 [==============================] - 0s 17ms/step - loss: 0.0931 - accuracy: 0.9816 - val_loss: 0.0879 - val_accuracy: 0.9734\n",
            "Epoch 75/100\n",
            "12/12 [==============================] - 0s 16ms/step - loss: 0.0926 - accuracy: 0.9816 - val_loss: 0.0874 - val_accuracy: 0.9734\n",
            "Epoch 76/100\n",
            "12/12 [==============================] - 0s 12ms/step - loss: 0.0921 - accuracy: 0.9816 - val_loss: 0.0870 - val_accuracy: 0.9734\n",
            "Epoch 77/100\n",
            "12/12 [==============================] - 0s 16ms/step - loss: 0.0916 - accuracy: 0.9816 - val_loss: 0.0866 - val_accuracy: 0.9734\n",
            "Epoch 78/100\n",
            "12/12 [==============================] - 0s 11ms/step - loss: 0.0911 - accuracy: 0.9816 - val_loss: 0.0860 - val_accuracy: 0.9734\n",
            "Epoch 79/100\n",
            "12/12 [==============================] - 0s 10ms/step - loss: 0.0906 - accuracy: 0.9816 - val_loss: 0.0857 - val_accuracy: 0.9734\n",
            "Epoch 80/100\n",
            "12/12 [==============================] - 0s 11ms/step - loss: 0.0901 - accuracy: 0.9816 - val_loss: 0.0853 - val_accuracy: 0.9734\n",
            "Epoch 81/100\n",
            "12/12 [==============================] - 0s 13ms/step - loss: 0.0897 - accuracy: 0.9816 - val_loss: 0.0848 - val_accuracy: 0.9734\n",
            "Epoch 82/100\n",
            "12/12 [==============================] - 0s 14ms/step - loss: 0.0892 - accuracy: 0.9816 - val_loss: 0.0843 - val_accuracy: 0.9734\n",
            "Epoch 83/100\n",
            "12/12 [==============================] - 0s 14ms/step - loss: 0.0888 - accuracy: 0.9816 - val_loss: 0.0840 - val_accuracy: 0.9734\n",
            "Epoch 84/100\n",
            "12/12 [==============================] - 0s 8ms/step - loss: 0.0884 - accuracy: 0.9816 - val_loss: 0.0837 - val_accuracy: 0.9734\n",
            "Epoch 85/100\n",
            "12/12 [==============================] - 0s 6ms/step - loss: 0.0879 - accuracy: 0.9816 - val_loss: 0.0832 - val_accuracy: 0.9734\n",
            "Epoch 86/100\n",
            "12/12 [==============================] - 0s 6ms/step - loss: 0.0875 - accuracy: 0.9816 - val_loss: 0.0829 - val_accuracy: 0.9734\n",
            "Epoch 87/100\n",
            "12/12 [==============================] - 0s 7ms/step - loss: 0.0871 - accuracy: 0.9816 - val_loss: 0.0826 - val_accuracy: 0.9734\n",
            "Epoch 88/100\n",
            "12/12 [==============================] - 0s 7ms/step - loss: 0.0868 - accuracy: 0.9816 - val_loss: 0.0821 - val_accuracy: 0.9734\n",
            "Epoch 89/100\n",
            "12/12 [==============================] - 0s 7ms/step - loss: 0.0863 - accuracy: 0.9816 - val_loss: 0.0818 - val_accuracy: 0.9734\n",
            "Epoch 90/100\n",
            "12/12 [==============================] - 0s 6ms/step - loss: 0.0859 - accuracy: 0.9816 - val_loss: 0.0815 - val_accuracy: 0.9734\n",
            "Epoch 91/100\n",
            "12/12 [==============================] - 0s 7ms/step - loss: 0.0856 - accuracy: 0.9816 - val_loss: 0.0812 - val_accuracy: 0.9734\n",
            "Epoch 92/100\n",
            "12/12 [==============================] - 0s 7ms/step - loss: 0.0852 - accuracy: 0.9816 - val_loss: 0.0809 - val_accuracy: 0.9734\n",
            "Epoch 93/100\n",
            "12/12 [==============================] - 0s 7ms/step - loss: 0.0848 - accuracy: 0.9816 - val_loss: 0.0805 - val_accuracy: 0.9734\n",
            "Epoch 94/100\n",
            "12/12 [==============================] - 0s 8ms/step - loss: 0.0845 - accuracy: 0.9816 - val_loss: 0.0802 - val_accuracy: 0.9734\n",
            "Epoch 95/100\n",
            "12/12 [==============================] - 0s 6ms/step - loss: 0.0841 - accuracy: 0.9816 - val_loss: 0.0799 - val_accuracy: 0.9734\n",
            "Epoch 96/100\n",
            "12/12 [==============================] - 0s 7ms/step - loss: 0.0838 - accuracy: 0.9816 - val_loss: 0.0795 - val_accuracy: 0.9734\n",
            "Epoch 97/100\n",
            "12/12 [==============================] - 0s 7ms/step - loss: 0.0835 - accuracy: 0.9816 - val_loss: 0.0793 - val_accuracy: 0.9734\n",
            "Epoch 98/100\n",
            "12/12 [==============================] - 0s 7ms/step - loss: 0.0831 - accuracy: 0.9816 - val_loss: 0.0790 - val_accuracy: 0.9734\n",
            "Epoch 99/100\n",
            "12/12 [==============================] - 0s 7ms/step - loss: 0.0828 - accuracy: 0.9816 - val_loss: 0.0786 - val_accuracy: 0.9734\n",
            "Epoch 100/100\n",
            "12/12 [==============================] - 0s 7ms/step - loss: 0.0825 - accuracy: 0.9816 - val_loss: 0.0784 - val_accuracy: 0.9734\n"
          ]
        }
      ]
    },
    {
      "cell_type": "code",
      "source": [
        "print(\"Train score: \", model.evaluate(x_train, y_train))\n",
        "print(\"Test score: \", model.evaluate(x_test, y_test))"
      ],
      "metadata": {
        "colab": {
          "base_uri": "https://localhost:8080/"
        },
        "id": "bOQv-Rg6CXMf",
        "outputId": "334be432-c4bd-4a65-b050-eba58beb03bf"
      },
      "execution_count": 15,
      "outputs": [
        {
          "output_type": "stream",
          "name": "stdout",
          "text": [
            "12/12 [==============================] - 0s 3ms/step - loss: 0.0823 - accuracy: 0.9816\n",
            "Train score:  [0.08228795975446701, 0.9816272854804993]\n",
            "6/6 [==============================] - 0s 3ms/step - loss: 0.0784 - accuracy: 0.9734\n",
            "Test score:  [0.07841803133487701, 0.9734042286872864]\n"
          ]
        }
      ]
    },
    {
      "cell_type": "code",
      "source": [
        "import matplotlib.pyplot as plt\n",
        "plt.plot(r.history['loss'], label='loss')\n",
        "plt.plot(r.history['val_loss'], label='val_loss')\n",
        "plt.legend(loc=\"upper right\")\n",
        "plt.show()"
      ],
      "metadata": {
        "colab": {
          "base_uri": "https://localhost:8080/",
          "height": 430
        },
        "id": "Rcr0JYNoDANe",
        "outputId": "30a03333-5b24-4893-81c6-f5671fde1817"
      },
      "execution_count": 16,
      "outputs": [
        {
          "output_type": "display_data",
          "data": {
            "text/plain": [
              "<Figure size 640x480 with 1 Axes>"
            ],
            "image/png": "[encoded data removed]"
          },
          "metadata": {}
        }
      ]
    },
    {
      "cell_type": "code",
      "source": [
        "plt.plot(r.history['accuracy'], label='acc')\n",
        "plt.plot(r.history['val_accuracy'], label='val_acc')\n",
        "plt.legend(loc=\"upper right\")\n",
        "plt.show()"
      ],
      "metadata": {
        "colab": {
          "base_uri": "https://localhost:8080/",
          "height": 430
        },
        "id": "azpeZZdYDf8q",
        "outputId": "deacda6e-9ee2-453c-a8c0-bdadbe5b8a01"
      },
      "execution_count": 17,
      "outputs": [
        {
          "output_type": "display_data",
          "data": {
            "text/plain": [
              "<Figure size 640x480 with 1 Axes>"
            ],
            "image/png": "[encoded data removed]"
          },
          "metadata": {}
        }
      ]
    },
    {
      "cell_type": "markdown",
      "source": [
        "# **Making predictions**"
      ],
      "metadata": {
        "id": "BqwYoNTHEbY4"
      }
    },
    {
      "cell_type": "code",
      "source": [
        "P=model.predict(x_test)\n",
        "print(P)"
      ],
      "metadata": {
        "id": "vruSDH1dDtPW",
        "colab": {
          "base_uri": "https://localhost:8080/"
        },
        "outputId": "504e1b96-3c00-40a4-d28a-cde45f13fcea"
      },
      "execution_count": 18,
      "outputs": [
        {
          "output_type": "stream",
          "name": "stdout",
          "text": [
            "6/6 [==============================] - 0s 2ms/step\n",
            "[[9.97322977e-01]\n",
            " [7.94455647e-01]\n",
            " [1.81481570e-01]\n",
            " [9.65366900e-01]\n",
            " [9.69608665e-01]\n",
            " [9.99379992e-01]\n",
            " [4.76838369e-03]\n",
            " [2.81536850e-05]\n",
            " [9.85417843e-01]\n",
            " [9.67098653e-01]\n",
            " [9.77520168e-01]\n",
            " [9.98528957e-01]\n",
            " [9.60087478e-01]\n",
            " [3.78525853e-02]\n",
            " [9.92401719e-01]\n",
            " [9.56325948e-01]\n",
            " [7.65348077e-01]\n",
            " [9.75896120e-01]\n",
            " [9.99105275e-01]\n",
            " [9.89955425e-01]\n",
            " [9.97383535e-01]\n",
            " [5.41589022e-01]\n",
            " [9.89603639e-01]\n",
            " [9.94602144e-01]\n",
            " [9.98077273e-01]\n",
            " [9.68717277e-01]\n",
            " [6.34803653e-01]\n",
            " [9.84216690e-01]\n",
            " [5.66687137e-02]\n",
            " [9.97213542e-01]\n",
            " [2.67824696e-08]\n",
            " [9.91899371e-01]\n",
            " [9.61025953e-01]\n",
            " [9.78904784e-01]\n",
            " [8.65466833e-01]\n",
            " [1.74782071e-02]\n",
            " [1.78531483e-01]\n",
            " [2.23841351e-02]\n",
            " [9.99850035e-01]\n",
            " [1.79538466e-02]\n",
            " [9.87257659e-01]\n",
            " [4.48559493e-01]\n",
            " [7.43442029e-02]\n",
            " [9.94194210e-01]\n",
            " [7.90223777e-01]\n",
            " [2.80445907e-02]\n",
            " [9.61249292e-01]\n",
            " [2.21323182e-09]\n",
            " [9.53119934e-01]\n",
            " [9.71471429e-01]\n",
            " [9.98529315e-01]\n",
            " [9.93572354e-01]\n",
            " [9.99806225e-01]\n",
            " [9.93286908e-01]\n",
            " [9.84126329e-01]\n",
            " [9.38251972e-01]\n",
            " [9.17433262e-01]\n",
            " [9.98945177e-01]\n",
            " [9.99906898e-01]\n",
            " [9.97310996e-01]\n",
            " [9.98058856e-01]\n",
            " [1.12792337e-02]\n",
            " [6.42797817e-03]\n",
            " [9.33235884e-01]\n",
            " [1.91783509e-03]\n",
            " [9.92419004e-01]\n",
            " [9.99002039e-01]\n",
            " [9.89592552e-01]\n",
            " [1.01433061e-01]\n",
            " [9.86399174e-01]\n",
            " [8.46255660e-01]\n",
            " [9.92430389e-01]\n",
            " [1.65921566e-03]\n",
            " [9.82936025e-01]\n",
            " [9.99603093e-01]\n",
            " [3.62339057e-02]\n",
            " [8.76232028e-01]\n",
            " [1.82545000e-06]\n",
            " [9.93431032e-01]\n",
            " [9.63296533e-01]\n",
            " [6.70017064e-01]\n",
            " [9.91393983e-01]\n",
            " [9.46791649e-01]\n",
            " [8.24698091e-01]\n",
            " [7.29090750e-01]\n",
            " [2.59926319e-01]\n",
            " [8.95342290e-01]\n",
            " [2.95059502e-01]\n",
            " [9.04662430e-01]\n",
            " [1.14738895e-03]\n",
            " [1.65695958e-02]\n",
            " [9.99031901e-01]\n",
            " [1.61156435e-11]\n",
            " [1.46964309e-03]\n",
            " [9.42326009e-01]\n",
            " [9.92853940e-01]\n",
            " [9.92153227e-01]\n",
            " [9.94303465e-01]\n",
            " [9.99280632e-01]\n",
            " [1.64554236e-04]\n",
            " [9.99244809e-01]\n",
            " [8.97086263e-01]\n",
            " [1.23985425e-01]\n",
            " [9.92740691e-01]\n",
            " [6.28829657e-05]\n",
            " [9.81569529e-01]\n",
            " [9.98760104e-01]\n",
            " [2.93281366e-04]\n",
            " [9.99524474e-01]\n",
            " [9.99960423e-01]\n",
            " [1.78967384e-04]\n",
            " [2.20627285e-07]\n",
            " [9.36629474e-01]\n",
            " [9.42207465e-04]\n",
            " [9.10181344e-01]\n",
            " [9.73695874e-01]\n",
            " [9.99419689e-01]\n",
            " [9.56301928e-01]\n",
            " [1.83229911e-08]\n",
            " [9.09133434e-01]\n",
            " [9.99632001e-01]\n",
            " [9.86462176e-01]\n",
            " [9.75748360e-01]\n",
            " [9.94449139e-01]\n",
            " [8.37300122e-02]\n",
            " [9.62659597e-01]\n",
            " [7.12465635e-03]\n",
            " [3.01239725e-05]\n",
            " [1.34368062e-01]\n",
            " [9.76269462e-07]\n",
            " [9.90518034e-01]\n",
            " [5.61974673e-07]\n",
            " [9.93921757e-01]\n",
            " [1.02550518e-02]\n",
            " [8.06765795e-01]\n",
            " [9.98866558e-01]\n",
            " [1.75078330e-05]\n",
            " [9.74881411e-01]\n",
            " [9.95881438e-01]\n",
            " [6.55923665e-01]\n",
            " [5.49681902e-01]\n",
            " [9.85790253e-01]\n",
            " [1.22845754e-01]\n",
            " [1.07425906e-01]\n",
            " [4.50364441e-01]\n",
            " [9.99492288e-01]\n",
            " [9.98244286e-01]\n",
            " [9.99147892e-01]\n",
            " [9.96672750e-01]\n",
            " [1.58277635e-05]\n",
            " [9.98946249e-01]\n",
            " [9.88485217e-01]\n",
            " [9.96520996e-01]\n",
            " [1.19145803e-01]\n",
            " [9.72999573e-01]\n",
            " [9.80115175e-01]\n",
            " [1.15743624e-02]\n",
            " [7.66828835e-01]\n",
            " [9.88943100e-01]\n",
            " [9.99430120e-01]\n",
            " [1.88171871e-05]\n",
            " [2.96303391e-01]\n",
            " [9.97877002e-01]\n",
            " [9.99757588e-01]\n",
            " [5.90502381e-01]\n",
            " [2.60410772e-04]\n",
            " [9.55511868e-01]\n",
            " [9.81090367e-01]\n",
            " [9.98879373e-01]\n",
            " [9.90660846e-01]\n",
            " [9.94222224e-01]\n",
            " [6.15556575e-02]\n",
            " [9.61878836e-01]\n",
            " [2.06880242e-01]\n",
            " [9.89029408e-01]\n",
            " [2.86820270e-02]\n",
            " [9.38698530e-01]\n",
            " [8.93240094e-01]\n",
            " [3.81561145e-02]\n",
            " [9.96326387e-01]\n",
            " [8.42807708e-08]\n",
            " [9.97975409e-01]\n",
            " [5.34531713e-01]\n",
            " [9.90460575e-01]\n",
            " [9.98123348e-01]\n",
            " [5.18964887e-01]\n",
            " [9.33177304e-03]\n",
            " [2.41055113e-06]]\n"
          ]
        }
      ]
    },
    {
      "cell_type": "code",
      "source": [
        "import numpy as np\n",
        "P=np.round(P).flatten()\n",
        "print(P)"
      ],
      "metadata": {
        "colab": {
          "base_uri": "https://localhost:8080/"
        },
        "id": "kKSKMbSrE6yB",
        "outputId": "d840c4cb-cb37-49c2-fb18-963e62b9509e"
      },
      "execution_count": 19,
      "outputs": [
        {
          "output_type": "stream",
          "name": "stdout",
          "text": [
            "[1. 1. 0. 1. 1. 1. 0. 0. 1. 1. 1. 1. 1. 0. 1. 1. 1. 1. 1. 1. 1. 1. 1. 1.\n",
            " 1. 1. 1. 1. 0. 1. 0. 1. 1. 1. 1. 0. 0. 0. 1. 0. 1. 0. 0. 1. 1. 0. 1. 0.\n",
            " 1. 1. 1. 1. 1. 1. 1. 1. 1. 1. 1. 1. 1. 0. 0. 1. 0. 1. 1. 1. 0. 1. 1. 1.\n",
            " 0. 1. 1. 0. 1. 0. 1. 1. 1. 1. 1. 1. 1. 0. 1. 0. 1. 0. 0. 1. 0. 0. 1. 1.\n",
            " 1. 1. 1. 0. 1. 1. 0. 1. 0. 1. 1. 0. 1. 1. 0. 0. 1. 0. 1. 1. 1. 1. 0. 1.\n",
            " 1. 1. 1. 1. 0. 1. 0. 0. 0. 0. 1. 0. 1. 0. 1. 1. 0. 1. 1. 1. 1. 1. 0. 0.\n",
            " 0. 1. 1. 1. 1. 0. 1. 1. 1. 0. 1. 1. 0. 1. 1. 1. 0. 0. 1. 1. 1. 0. 1. 1.\n",
            " 1. 1. 1. 0. 1. 0. 1. 0. 1. 1. 0. 1. 0. 1. 1. 1. 1. 1. 0. 0.]\n"
          ]
        }
      ]
    },
    {
      "cell_type": "code",
      "source": [
        "print(\"Manually calculated accuracy: \", np.mean(P==y_test))\n",
        "print(\"Evaluate output: \", model.evaluate(x_test, y_test))"
      ],
      "metadata": {
        "colab": {
          "base_uri": "https://localhost:8080/"
        },
        "id": "7H2WNjVNFLmx",
        "outputId": "1d844225-a8a2-4098-cf07-ee314e591a56"
      },
      "execution_count": 20,
      "outputs": [
        {
          "output_type": "stream",
          "name": "stdout",
          "text": [
            "Manually calculated accuracy:  0.973404255319149\n",
            "6/6 [==============================] - 0s 3ms/step - loss: 0.0784 - accuracy: 0.9734\n",
            "Evaluate output:  [0.07841803133487701, 0.9734042286872864]\n"
          ]
        }
      ]
    },
    {
      "cell_type": "markdown",
      "source": [
        "# **SAVING AND LOADING MODEL**"
      ],
      "metadata": {
        "id": "e6LN-gBaMCs4"
      }
    },
    {
      "cell_type": "code",
      "source": [
        "from google.colab import drive\n",
        "drive.mount('/content/gdrive/', force_remount=True)"
      ],
      "metadata": {
        "id": "TdDj3kzHF0wO",
        "colab": {
          "base_uri": "https://localhost:8080/"
        },
        "outputId": "85aeef32-0214-4a35-a480-425f634b4ed8"
      },
      "execution_count": 21,
      "outputs": [
        {
          "output_type": "stream",
          "name": "stdout",
          "text": [
            "Mounted at /content/gdrive/\n"
          ]
        }
      ]
    },
    {
      "cell_type": "code",
      "source": [
        "model.save('/content/gdrive/MyDrive/Colab Notebooks/TF2.0/linear_classifier.h5')"
      ],
      "metadata": {
        "id": "qydBmqixLyz_"
      },
      "execution_count": 22,
      "outputs": []
    },
    {
      "cell_type": "code",
      "source": [
        "model2=tf.keras.models.load_model('/content/gdrive/MyDrive/Colab Notebooks/TF2.0/linear_classifier.h5')\n",
        "print(model2.layers)"
      ],
      "metadata": {
        "colab": {
          "base_uri": "https://localhost:8080/"
        },
        "id": "k4hZLjFXLzax",
        "outputId": "ec5b93e3-8b16-446f-90be-25b5239652ad"
      },
      "execution_count": 23,
      "outputs": [
        {
          "output_type": "stream",
          "name": "stdout",
          "text": [
            "[<keras.layers.core.dense.Dense object at 0x7bdb6c33ead0>]\n"
          ]
        }
      ]
    },
    {
      "cell_type": "code",
      "source": [
        "model.evaluate(x_test, y_test)"
      ],
      "metadata": {
        "colab": {
          "base_uri": "https://localhost:8080/"
        },
        "id": "qDcAG9lqL1AG",
        "outputId": "3eedfa5e-ca5b-4be8-fbe4-21eb79425801"
      },
      "execution_count": 25,
      "outputs": [
        {
          "output_type": "stream",
          "name": "stdout",
          "text": [
            "6/6 [==============================] - 0s 6ms/step - loss: 0.0784 - accuracy: 0.9734\n"
          ]
        },
        {
          "output_type": "execute_result",
          "data": {
            "text/plain": [
              "[0.07841803133487701, 0.9734042286872864]"
            ]
          },
          "metadata": {},
          "execution_count": 25
        }
      ]
    }
  ]
}