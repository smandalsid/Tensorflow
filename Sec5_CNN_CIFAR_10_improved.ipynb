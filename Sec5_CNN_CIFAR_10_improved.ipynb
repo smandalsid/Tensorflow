{
  "nbformat": 4,
  "nbformat_minor": 0,
  "metadata": {
    "colab": {
      "provenance": [],
      "gpuType": "T4",
      "authorship_tag": "ABX9TyNnizdXGmM9CKwX60dJ8YMD"
    },
    "kernelspec": {
      "name": "python3",
      "display_name": "Python 3"
    },
    "language_info": {
      "name": "python"
    },
    "accelerator": "GPU"
  },
  "cells": [
    {
      "cell_type": "code",
      "execution_count": 10,
      "metadata": {
        "id": "ofej00RZGa8s"
      },
      "outputs": [],
      "source": [
        "import tensorflow as tf\n",
        "import numpy as np\n",
        "import matplotlib.pyplot as plt\n",
        "import seaborn as sns\n",
        "from tensorflow.keras.models import Model\n",
        "from tensorflow.keras.layers import Input, Dense, Flatten, Conv2D, Dropout, MaxPooling2D, BatchNormalization\n",
        "from sklearn.metrics import confusion_matrix"
      ]
    },
    {
      "cell_type": "code",
      "source": [
        "cifar10=tf.keras.datasets.cifar10\n",
        "(x_train, y_train), (x_test, y_test)=cifar10.load_data()"
      ],
      "metadata": {
        "colab": {
          "base_uri": "https://localhost:8080/"
        },
        "id": "veZadzL1bHD5",
        "outputId": "98681609-967c-4485-c54a-c81ee3194883"
      },
      "execution_count": 2,
      "outputs": [
        {
          "output_type": "stream",
          "name": "stdout",
          "text": [
            "Downloading data from https://www.cs.toronto.edu/~kriz/cifar-10-python.tar.gz\n",
            "170498071/170498071 [==============================] - 6s 0us/step\n"
          ]
        }
      ]
    },
    {
      "cell_type": "code",
      "source": [
        "x_train, x_test = x_train/255.0, x_test/255.0\n",
        "y_train, y_test = y_train.flatten(), y_test.flatten()"
      ],
      "metadata": {
        "id": "JeitB5csbaQX"
      },
      "execution_count": 5,
      "outputs": []
    },
    {
      "cell_type": "code",
      "source": [
        "print(f'x_train shape: {x_train.shape}')\n",
        "print(f'y_train shape: {y_train.shape}')"
      ],
      "metadata": {
        "colab": {
          "base_uri": "https://localhost:8080/"
        },
        "id": "YAS6rXzicVup",
        "outputId": "561af505-0858-413f-ebcc-45b78ff9af58"
      },
      "execution_count": 6,
      "outputs": [
        {
          "output_type": "stream",
          "name": "stdout",
          "text": [
            "x_train shape: (50000, 32, 32, 3)\n",
            "y_train shape: (50000,)\n"
          ]
        }
      ]
    },
    {
      "cell_type": "code",
      "source": [
        "K=len(set(y_train))\n",
        "print(f'Number of classes in labels: {K}')"
      ],
      "metadata": {
        "colab": {
          "base_uri": "https://localhost:8080/"
        },
        "id": "BzZtyvy9ce5R",
        "outputId": "737f7e24-ab48-4535-bbd9-8588af91a2ea"
      },
      "execution_count": 8,
      "outputs": [
        {
          "output_type": "stream",
          "name": "stdout",
          "text": [
            "Number of classes in labels: 10\n"
          ]
        }
      ]
    },
    {
      "cell_type": "code",
      "source": [
        "# Build the model\n",
        "\n",
        "i=Input(shape=x_train[0].shape)\n",
        "x=Conv2D(32, (3,3), activation='relu', padding='same')(i)\n",
        "x=BatchNormalization()(x)\n",
        "x=Conv2D(32, (3,3), activation='relu', padding='same')(x)\n",
        "x=BatchNormalization()(x)\n",
        "x=MaxPooling2D((2, 2))(x)\n",
        "x=Conv2D(64, (3, 3), activation='relu', padding='same')(x)\n",
        "x=BatchNormalization()(x)\n",
        "x=Conv2D(64, (3, 3), activation='relu', padding='same')(x)\n",
        "x=BatchNormalization()(x)\n",
        "x=MaxPooling2D((2, 2))(x)\n",
        "x=Conv2D(128, (3, 3), activation='relu', padding='same')(x)\n",
        "x=BatchNormalization()(x)\n",
        "x=Conv2D(128, (3, 3), activation='relu', padding='same')(x)\n",
        "x=BatchNormalization()(x)\n",
        "x=MaxPooling2D((2, 2))(x)\n",
        "\n",
        "x=Flatten()(x)\n",
        "x=Dropout(0.2)(x)\n",
        "x=Dense(1024, activation='relu')(x)\n",
        "x=Dropout(0.2)(x)\n",
        "x=Dense(K, activation='softmax')(x)\n",
        "\n",
        "model=Model(i, x)"
      ],
      "metadata": {
        "id": "l0V73Eadcjlz"
      },
      "execution_count": 12,
      "outputs": []
    },
    {
      "cell_type": "code",
      "source": [
        "model.compile(optimizer='adam', loss='sparse_categorical_crossentropy', metrics=['accuracy'])"
      ],
      "metadata": {
        "id": "3NsMNDx6gW3s"
      },
      "execution_count": 13,
      "outputs": []
    },
    {
      "cell_type": "code",
      "source": [
        "r=model.fit(x_train, y_train, validation_data=(x_test, y_test), epochs=50)"
      ],
      "metadata": {
        "colab": {
          "base_uri": "https://localhost:8080/"
        },
        "id": "1j9SSXf-gr89",
        "outputId": "0243afda-de11-4dae-c1e5-2972797c92ce"
      },
      "execution_count": 14,
      "outputs": [
        {
          "output_type": "stream",
          "name": "stdout",
          "text": [
            "Epoch 1/50\n",
            "1563/1563 [==============================] - 29s 9ms/step - loss: 1.2768 - accuracy: 0.5624 - val_loss: 1.0052 - val_accuracy: 0.6513\n",
            "Epoch 2/50\n",
            "1563/1563 [==============================] - 16s 10ms/step - loss: 0.8214 - accuracy: 0.7152 - val_loss: 0.7748 - val_accuracy: 0.7314\n",
            "Epoch 3/50\n",
            "1563/1563 [==============================] - 14s 9ms/step - loss: 0.6756 - accuracy: 0.7675 - val_loss: 0.7508 - val_accuracy: 0.7535\n",
            "Epoch 4/50\n",
            "1563/1563 [==============================] - 14s 9ms/step - loss: 0.5768 - accuracy: 0.8022 - val_loss: 0.7193 - val_accuracy: 0.7643\n",
            "Epoch 5/50\n",
            "1563/1563 [==============================] - 14s 9ms/step - loss: 0.4851 - accuracy: 0.8356 - val_loss: 0.6138 - val_accuracy: 0.7958\n",
            "Epoch 6/50\n",
            "1563/1563 [==============================] - 14s 9ms/step - loss: 0.4129 - accuracy: 0.8576 - val_loss: 0.7291 - val_accuracy: 0.7776\n",
            "Epoch 7/50\n",
            "1563/1563 [==============================] - 14s 9ms/step - loss: 0.3474 - accuracy: 0.8808 - val_loss: 0.6320 - val_accuracy: 0.8007\n",
            "Epoch 8/50\n",
            "1563/1563 [==============================] - 15s 9ms/step - loss: 0.2953 - accuracy: 0.8988 - val_loss: 0.6208 - val_accuracy: 0.8089\n",
            "Epoch 9/50\n",
            "1563/1563 [==============================] - 14s 9ms/step - loss: 0.2537 - accuracy: 0.9123 - val_loss: 0.6340 - val_accuracy: 0.8155\n",
            "Epoch 10/50\n",
            "1563/1563 [==============================] - 14s 9ms/step - loss: 0.2165 - accuracy: 0.9246 - val_loss: 0.6533 - val_accuracy: 0.8198\n",
            "Epoch 11/50\n",
            "1563/1563 [==============================] - 15s 9ms/step - loss: 0.1970 - accuracy: 0.9327 - val_loss: 0.6781 - val_accuracy: 0.8162\n",
            "Epoch 12/50\n",
            "1563/1563 [==============================] - 14s 9ms/step - loss: 0.1734 - accuracy: 0.9403 - val_loss: 0.6554 - val_accuracy: 0.8300\n",
            "Epoch 13/50\n",
            "1563/1563 [==============================] - 14s 9ms/step - loss: 0.1595 - accuracy: 0.9459 - val_loss: 0.7568 - val_accuracy: 0.8171\n",
            "Epoch 14/50\n",
            "1563/1563 [==============================] - 14s 9ms/step - loss: 0.1421 - accuracy: 0.9526 - val_loss: 0.7239 - val_accuracy: 0.8272\n",
            "Epoch 15/50\n",
            "1563/1563 [==============================] - 13s 9ms/step - loss: 0.1311 - accuracy: 0.9557 - val_loss: 0.7577 - val_accuracy: 0.8218\n",
            "Epoch 16/50\n",
            "1563/1563 [==============================] - 13s 9ms/step - loss: 0.1205 - accuracy: 0.9595 - val_loss: 0.7588 - val_accuracy: 0.8229\n",
            "Epoch 17/50\n",
            "1563/1563 [==============================] - 14s 9ms/step - loss: 0.1163 - accuracy: 0.9610 - val_loss: 0.7409 - val_accuracy: 0.8328\n",
            "Epoch 18/50\n",
            "1563/1563 [==============================] - 14s 9ms/step - loss: 0.1089 - accuracy: 0.9640 - val_loss: 0.7095 - val_accuracy: 0.8370\n",
            "Epoch 19/50\n",
            "1563/1563 [==============================] - 15s 9ms/step - loss: 0.1001 - accuracy: 0.9669 - val_loss: 0.7738 - val_accuracy: 0.8391\n",
            "Epoch 20/50\n",
            "1563/1563 [==============================] - 14s 9ms/step - loss: 0.0962 - accuracy: 0.9688 - val_loss: 0.8081 - val_accuracy: 0.8237\n",
            "Epoch 21/50\n",
            "1563/1563 [==============================] - 15s 9ms/step - loss: 0.0919 - accuracy: 0.9700 - val_loss: 0.8001 - val_accuracy: 0.8228\n",
            "Epoch 22/50\n",
            "1563/1563 [==============================] - 14s 9ms/step - loss: 0.0851 - accuracy: 0.9719 - val_loss: 0.7449 - val_accuracy: 0.8419\n",
            "Epoch 23/50\n",
            "1563/1563 [==============================] - 15s 9ms/step - loss: 0.0804 - accuracy: 0.9726 - val_loss: 0.7682 - val_accuracy: 0.8370\n",
            "Epoch 24/50\n",
            "1563/1563 [==============================] - 14s 9ms/step - loss: 0.0775 - accuracy: 0.9737 - val_loss: 0.7337 - val_accuracy: 0.8299\n",
            "Epoch 25/50\n",
            "1563/1563 [==============================] - 14s 9ms/step - loss: 0.0702 - accuracy: 0.9763 - val_loss: 0.8026 - val_accuracy: 0.8340\n",
            "Epoch 26/50\n",
            "1563/1563 [==============================] - 15s 10ms/step - loss: 0.0716 - accuracy: 0.9761 - val_loss: 0.7634 - val_accuracy: 0.8389\n",
            "Epoch 27/50\n",
            "1563/1563 [==============================] - 14s 9ms/step - loss: 0.0701 - accuracy: 0.9773 - val_loss: 0.8206 - val_accuracy: 0.8381\n",
            "Epoch 28/50\n",
            "1563/1563 [==============================] - 14s 9ms/step - loss: 0.0628 - accuracy: 0.9795 - val_loss: 0.8138 - val_accuracy: 0.8385\n",
            "Epoch 29/50\n",
            "1563/1563 [==============================] - 14s 9ms/step - loss: 0.0696 - accuracy: 0.9762 - val_loss: 0.8274 - val_accuracy: 0.8355\n",
            "Epoch 30/50\n",
            "1563/1563 [==============================] - 14s 9ms/step - loss: 0.0637 - accuracy: 0.9794 - val_loss: 0.8976 - val_accuracy: 0.8373\n",
            "Epoch 31/50\n",
            "1563/1563 [==============================] - 14s 9ms/step - loss: 0.0645 - accuracy: 0.9794 - val_loss: 0.7720 - val_accuracy: 0.8448\n",
            "Epoch 32/50\n",
            "1563/1563 [==============================] - 14s 9ms/step - loss: 0.0550 - accuracy: 0.9823 - val_loss: 0.8286 - val_accuracy: 0.8384\n",
            "Epoch 33/50\n",
            "1563/1563 [==============================] - 13s 9ms/step - loss: 0.0555 - accuracy: 0.9823 - val_loss: 0.7942 - val_accuracy: 0.8389\n",
            "Epoch 34/50\n",
            "1563/1563 [==============================] - 14s 9ms/step - loss: 0.0560 - accuracy: 0.9811 - val_loss: 0.8191 - val_accuracy: 0.8448\n",
            "Epoch 35/50\n",
            "1563/1563 [==============================] - 14s 9ms/step - loss: 0.0572 - accuracy: 0.9815 - val_loss: 0.7794 - val_accuracy: 0.8402\n",
            "Epoch 36/50\n",
            "1563/1563 [==============================] - 14s 9ms/step - loss: 0.0492 - accuracy: 0.9837 - val_loss: 0.8085 - val_accuracy: 0.8398\n",
            "Epoch 37/50\n",
            "1563/1563 [==============================] - 14s 9ms/step - loss: 0.0526 - accuracy: 0.9827 - val_loss: 0.9033 - val_accuracy: 0.8328\n",
            "Epoch 38/50\n",
            "1563/1563 [==============================] - 14s 9ms/step - loss: 0.0502 - accuracy: 0.9836 - val_loss: 0.9409 - val_accuracy: 0.8387\n",
            "Epoch 39/50\n",
            "1563/1563 [==============================] - 14s 9ms/step - loss: 0.0511 - accuracy: 0.9833 - val_loss: 0.7716 - val_accuracy: 0.8463\n",
            "Epoch 40/50\n",
            "1563/1563 [==============================] - 14s 9ms/step - loss: 0.0477 - accuracy: 0.9845 - val_loss: 0.8037 - val_accuracy: 0.8427\n",
            "Epoch 41/50\n",
            "1563/1563 [==============================] - 15s 10ms/step - loss: 0.0456 - accuracy: 0.9849 - val_loss: 0.8671 - val_accuracy: 0.8411\n",
            "Epoch 42/50\n",
            "1563/1563 [==============================] - 15s 9ms/step - loss: 0.0475 - accuracy: 0.9845 - val_loss: 0.7590 - val_accuracy: 0.8485\n",
            "Epoch 43/50\n",
            "1563/1563 [==============================] - 14s 9ms/step - loss: 0.0407 - accuracy: 0.9873 - val_loss: 1.0065 - val_accuracy: 0.8347\n",
            "Epoch 44/50\n",
            "1563/1563 [==============================] - 14s 9ms/step - loss: 0.0472 - accuracy: 0.9849 - val_loss: 0.9282 - val_accuracy: 0.8452\n",
            "Epoch 45/50\n",
            "1563/1563 [==============================] - 14s 9ms/step - loss: 0.0409 - accuracy: 0.9872 - val_loss: 0.7792 - val_accuracy: 0.8447\n",
            "Epoch 46/50\n",
            "1563/1563 [==============================] - 14s 9ms/step - loss: 0.0449 - accuracy: 0.9859 - val_loss: 0.8338 - val_accuracy: 0.8355\n",
            "Epoch 47/50\n",
            "1563/1563 [==============================] - 13s 9ms/step - loss: 0.0432 - accuracy: 0.9857 - val_loss: 0.8223 - val_accuracy: 0.8453\n",
            "Epoch 48/50\n",
            "1563/1563 [==============================] - 13s 9ms/step - loss: 0.0401 - accuracy: 0.9867 - val_loss: 0.8438 - val_accuracy: 0.8506\n",
            "Epoch 49/50\n",
            "1563/1563 [==============================] - 14s 9ms/step - loss: 0.0427 - accuracy: 0.9867 - val_loss: 0.8044 - val_accuracy: 0.8454\n",
            "Epoch 50/50\n",
            "1563/1563 [==============================] - 13s 9ms/step - loss: 0.0339 - accuracy: 0.9889 - val_loss: 0.9552 - val_accuracy: 0.8425\n"
          ]
        }
      ]
    },
    {
      "cell_type": "code",
      "source": [
        "from google.colab import drive\n",
        "drive.mount('/content/gdrive/', force_remount=True)"
      ],
      "metadata": {
        "colab": {
          "base_uri": "https://localhost:8080/"
        },
        "id": "7C-4rhsUg3g1",
        "outputId": "07813c67-2fb1-4b31-9f90-79baa2816871"
      },
      "execution_count": 15,
      "outputs": [
        {
          "output_type": "stream",
          "name": "stdout",
          "text": [
            "Mounted at /content/gdrive/\n"
          ]
        }
      ]
    },
    {
      "cell_type": "code",
      "source": [
        "model.save('/content/gdrive/MyDrive/Colab Notebooks/TF2.0/improved_cifar10.h5')"
      ],
      "metadata": {
        "id": "fZGbdu99jxck"
      },
      "execution_count": 16,
      "outputs": []
    },
    {
      "cell_type": "code",
      "source": [
        "batch_size=32\n",
        "data_generator=tf.keras.preprocessing.image.ImageDataGenerator(width_shift_range=0.1, height_shift_range=0.1, horizontal_flip=True)\n",
        "train_generator=data_generator.flow(x_train, y_train, batch_size)\n",
        "steps_per_epoch=x_train.shape[0]\n",
        "r=model.fit_generator(train_generator, validation_data=(x_test, y_test), steps_per_epoch=steps_per_epoch, epochs=50)"
      ],
      "metadata": {
        "colab": {
          "base_uri": "https://localhost:8080/"
        },
        "id": "Xf7YGu-1j7-w",
        "outputId": "88ba6137-98ed-47d2-84df-4d66d8fc6b7f"
      },
      "execution_count": 17,
      "outputs": [
        {
          "output_type": "stream",
          "name": "stdout",
          "text": [
            "Epoch 1/50\n"
          ]
        },
        {
          "output_type": "stream",
          "name": "stderr",
          "text": [
            "<ipython-input-17-639dc62fbb19>:5: UserWarning: `Model.fit_generator` is deprecated and will be removed in a future version. Please use `Model.fit`, which supports generators.\n",
            "  r=model.fit_generator(train_generator, validation_data=(x_test, y_test), steps_per_epoch=steps_per_epoch, epochs=50)\n"
          ]
        },
        {
          "output_type": "stream",
          "name": "stdout",
          "text": [
            " 1562/50000 [..............................] - ETA: 21:48 - loss: 0.5447 - accuracy: 0.8256"
          ]
        },
        {
          "output_type": "stream",
          "name": "stderr",
          "text": [
            "WARNING:tensorflow:Your input ran out of data; interrupting training. Make sure that your dataset or generator can generate at least `steps_per_epoch * epochs` batches (in this case, 2500000 batches). You may need to use the repeat() function when building your dataset.\n"
          ]
        },
        {
          "output_type": "stream",
          "name": "stdout",
          "text": [
            "\b\b\b\b\b\b\b\b\b\b\b\b\b\b\b\b\b\b\b\b\b\b\b\b\b\b\b\b\b\b\b\b\b\b\b\b\b\b\b\b\b\b\b\b\b\b\b\b\b\b\b\b\b\b\b\b\b\b\b\b\b\b\b\b\b\b\b\b\b\b\b\b\b\b\b\b\b\b\b\b\b\b\b\b\b\b\b\b\b\b\b\r50000/50000 [==============================] - 45s 872us/step - loss: 0.5445 - accuracy: 0.8256 - val_loss: 0.4946 - val_accuracy: 0.8351\n"
          ]
        }
      ]
    },
    {
      "cell_type": "code",
      "source": [
        "p_test=model.predict(x_test).argmax(axis=1)\n",
        "cm=confusion_matrix(y_test, p_test)\n",
        "sns.heatmap(cm, annot=True, fmt='g')\n",
        "plt.ylabel('Prediction',fontsize=13)\n",
        "plt.xlabel('Actual',fontsize=13)\n",
        "plt.title('Confusion Matrix',fontsize=17)\n",
        "plt.show()"
      ],
      "metadata": {
        "colab": {
          "base_uri": "https://localhost:8080/",
          "height": 499
        },
        "id": "KxgX-eL3njTF",
        "outputId": "a128044e-65a4-48d9-c2b4-2089e21b0472"
      },
      "execution_count": 18,
      "outputs": [
        {
          "output_type": "stream",
          "name": "stdout",
          "text": [
            "313/313 [==============================] - 2s 5ms/step\n"
          ]
        },
        {
          "output_type": "display_data",
          "data": {
            "text/plain": [
              "<Figure size 640x480 with 2 Axes>"
            ],
            "image/png": "[encoded data removed]"
          },
          "metadata": {}
        }
      ]
    }
  ]
}